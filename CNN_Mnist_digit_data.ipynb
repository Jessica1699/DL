{
  "nbformat": 4,
  "nbformat_minor": 0,
  "metadata": {
    "colab": {
      "name": "CNN Mnist data day 2.ipynb",
      "provenance": [],
      "collapsed_sections": []
    },
    "kernelspec": {
      "name": "python3",
      "display_name": "Python 3"
    }
  },
  "cells": [
    {
      "cell_type": "code",
      "metadata": {
        "id": "I9T5wUx4PWmG"
      },
      "source": [
        "import tensorflow as tf\r\n",
        "import numpy as np\r\n",
        "import matplotlib.pyplot as plt"
      ],
      "execution_count": null,
      "outputs": []
    },
    {
      "cell_type": "code",
      "metadata": {
        "id": "xjfSMjyWPfXZ"
      },
      "source": [
        "mnist = tf.keras.datasets.mnist"
      ],
      "execution_count": null,
      "outputs": []
    },
    {
      "cell_type": "code",
      "metadata": {
        "colab": {
          "base_uri": "https://localhost:8080/"
        },
        "id": "saZrxZrpQQRQ",
        "outputId": "e0b39571-62b6-42bb-f9da-5ed5c894b180"
      },
      "source": [
        "mnist"
      ],
      "execution_count": null,
      "outputs": [
        {
          "output_type": "execute_result",
          "data": {
            "text/plain": [
              "<module 'tensorflow.keras.datasets.mnist' from '/usr/local/lib/python3.6/dist-packages/tensorflow/keras/datasets/mnist/__init__.py'>"
            ]
          },
          "metadata": {
            "tags": []
          },
          "execution_count": 4
        }
      ]
    },
    {
      "cell_type": "code",
      "metadata": {
        "colab": {
          "base_uri": "https://localhost:8080/"
        },
        "id": "7xlcEzNsQRqP",
        "outputId": "f88cb094-6b8a-44e7-c611-78b816724633"
      },
      "source": [
        "(x_train,y_train), (x_test,y_test) = mnist.load_data()"
      ],
      "execution_count": null,
      "outputs": [
        {
          "output_type": "stream",
          "text": [
            "Downloading data from https://storage.googleapis.com/tensorflow/tf-keras-datasets/mnist.npz\n",
            "11493376/11490434 [==============================] - 0s 0us/step\n"
          ],
          "name": "stdout"
        }
      ]
    },
    {
      "cell_type": "markdown",
      "metadata": {
        "id": "20lxGHDtQgzK"
      },
      "source": [
        "Mnist is a database of handwritten digits"
      ]
    },
    {
      "cell_type": "markdown",
      "metadata": {
        "id": "gd7Tv8njQsFw"
      },
      "source": [
        "training set of 60000 example and test has 10000 example"
      ]
    },
    {
      "cell_type": "code",
      "metadata": {
        "colab": {
          "base_uri": "https://localhost:8080/",
          "height": 309
        },
        "id": "6S57uYDhQcKW",
        "outputId": "307b93ba-d497-49c0-ae31-cec73d35f31e"
      },
      "source": [
        "plt.figure(figsize=(10,5))\r\n",
        "plt.subplot(1,4,1)\r\n",
        "plt.imshow(x_train[0])\r\n",
        "\r\n",
        "plt.subplot(1,4,2)\r\n",
        "plt.imshow(x_train[1])\r\n",
        "\r\n",
        "plt.subplot(1,4,3)\r\n",
        "plt.imshow(x_train[2])\r\n",
        "\r\n",
        "plt.subplot(1,4,4)\r\n",
        "plt.imshow(x_train[3])\r\n",
        "\r\n",
        "plt.colorbar()\r\n",
        "plt.show()"
      ],
      "execution_count": null,
      "outputs": [
        {
          "output_type": "display_data",
          "data": {
            "image/png": "[encoded data removed]",
            "text/plain": [
              "<Figure size 720x360 with 5 Axes>"
            ]
          },
          "metadata": {
            "tags": [],
            "needs_background": "light"
          }
        }
      ]
    },
    {
      "cell_type": "code",
      "metadata": {
        "colab": {
          "base_uri": "https://localhost:8080/"
        },
        "id": "17Mw2yydRuhI",
        "outputId": "67efebc4-a720-43f0-c27e-04d9fcb13166"
      },
      "source": [
        "x_train[:2]"
      ],
      "execution_count": null,
      "outputs": [
        {
          "output_type": "execute_result",
          "data": {
            "text/plain": [
              "array([[[0, 0, 0, ..., 0, 0, 0],\n",
              "        [0, 0, 0, ..., 0, 0, 0],\n",
              "        [0, 0, 0, ..., 0, 0, 0],\n",
              "        ...,\n",
              "        [0, 0, 0, ..., 0, 0, 0],\n",
              "        [0, 0, 0, ..., 0, 0, 0],\n",
              "        [0, 0, 0, ..., 0, 0, 0]],\n",
              "\n",
              "       [[0, 0, 0, ..., 0, 0, 0],\n",
              "        [0, 0, 0, ..., 0, 0, 0],\n",
              "        [0, 0, 0, ..., 0, 0, 0],\n",
              "        ...,\n",
              "        [0, 0, 0, ..., 0, 0, 0],\n",
              "        [0, 0, 0, ..., 0, 0, 0],\n",
              "        [0, 0, 0, ..., 0, 0, 0]]], dtype=uint8)"
            ]
          },
          "metadata": {
            "tags": []
          },
          "execution_count": 9
        }
      ]
    },
    {
      "cell_type": "code",
      "metadata": {
        "colab": {
          "base_uri": "https://localhost:8080/"
        },
        "id": "V_ZGv4HXR9rO",
        "outputId": "9d3d7622-1099-4d87-bd24-8fd6eab07988"
      },
      "source": [
        "x_train.shape"
      ],
      "execution_count": null,
      "outputs": [
        {
          "output_type": "execute_result",
          "data": {
            "text/plain": [
              "(60000, 28, 28)"
            ]
          },
          "metadata": {
            "tags": []
          },
          "execution_count": 10
        }
      ]
    },
    {
      "cell_type": "code",
      "metadata": {
        "colab": {
          "base_uri": "https://localhost:8080/"
        },
        "id": "8-soJhWNSBM-",
        "outputId": "f7dbed41-8c00-4c6b-f96d-083aff81dc72"
      },
      "source": [
        "x_test.shape"
      ],
      "execution_count": null,
      "outputs": [
        {
          "output_type": "execute_result",
          "data": {
            "text/plain": [
              "(10000, 28, 28)"
            ]
          },
          "metadata": {
            "tags": []
          },
          "execution_count": 11
        }
      ]
    },
    {
      "cell_type": "code",
      "metadata": {
        "colab": {
          "base_uri": "https://localhost:8080/"
        },
        "id": "aAZz67VESDPH",
        "outputId": "b20bec97-6d77-4b9c-9756-fb3a3c3d1985"
      },
      "source": [
        "x_train.max()"
      ],
      "execution_count": null,
      "outputs": [
        {
          "output_type": "execute_result",
          "data": {
            "text/plain": [
              "255"
            ]
          },
          "metadata": {
            "tags": []
          },
          "execution_count": 14
        }
      ]
    },
    {
      "cell_type": "code",
      "metadata": {
        "colab": {
          "base_uri": "https://localhost:8080/"
        },
        "id": "nVVf-F7YSFWq",
        "outputId": "ae1e3ce9-7302-4371-a22f-e20563f4ff7e"
      },
      "source": [
        "x_test.max()"
      ],
      "execution_count": null,
      "outputs": [
        {
          "output_type": "execute_result",
          "data": {
            "text/plain": [
              "255"
            ]
          },
          "metadata": {
            "tags": []
          },
          "execution_count": 13
        }
      ]
    },
    {
      "cell_type": "markdown",
      "metadata": {
        "id": "VLVUFqe0SmAj"
      },
      "source": [
        "Here we are normalizing the values to form a range from 0 to 1 by dividing the nos. from the max no."
      ]
    },
    {
      "cell_type": "code",
      "metadata": {
        "id": "XHLOePeXSIYu"
      },
      "source": [
        "x_train,x_test = x_train / 255.0 , x_test / 255.0"
      ],
      "execution_count": null,
      "outputs": []
    },
    {
      "cell_type": "markdown",
      "metadata": {
        "id": "tpqN5KOTS6Pp"
      },
      "source": [
        "Now, we can see our max value as 1 after normalizing"
      ]
    },
    {
      "cell_type": "code",
      "metadata": {
        "colab": {
          "base_uri": "https://localhost:8080/"
        },
        "id": "-eJYqxbWSygO",
        "outputId": "0736170e-77d7-407f-dc3d-3e14432b0c4d"
      },
      "source": [
        "x_train.max()"
      ],
      "execution_count": null,
      "outputs": [
        {
          "output_type": "execute_result",
          "data": {
            "text/plain": [
              "1.0"
            ]
          },
          "metadata": {
            "tags": []
          },
          "execution_count": 16
        }
      ]
    },
    {
      "cell_type": "code",
      "metadata": {
        "colab": {
          "base_uri": "https://localhost:8080/"
        },
        "id": "HieJC-JGS1qh",
        "outputId": "c295ac4a-f333-4a86-ca37-e5ec875091f3"
      },
      "source": [
        "x_test.max()"
      ],
      "execution_count": null,
      "outputs": [
        {
          "output_type": "execute_result",
          "data": {
            "text/plain": [
              "1.0"
            ]
          },
          "metadata": {
            "tags": []
          },
          "execution_count": 17
        }
      ]
    },
    {
      "cell_type": "markdown",
      "metadata": {
        "id": "7dcrh4ReTLWO"
      },
      "source": [
        "Flatten multiples 3 dimension and converts to 1 dimension like (None,1,10,64) would be (None,640) i.e. 1 * 10 * 64"
      ]
    },
    {
      "cell_type": "code",
      "metadata": {
        "id": "vjxTbh_wS3sD"
      },
      "source": [
        "model = tf.keras.models.Sequential(\r\n",
        "    [\r\n",
        "     tf.keras.layers.Flatten(input_shape = (28,28)), # (28,28) is the image shape obtained by x_train.shape/x_test.shape\r\n",
        "     tf.keras.layers.Dense(128,activation='relu') # 128 is random no.\r\n",
        "     tf.keras.layers.Dropout(0.2),  # 0.2 dropout in each iteration \r\n",
        "     tf.keras.layers.Dense(10)      # 10 beacuse our output is 10 digits (0-9)\r\n",
        "    ]\r\n",
        ")"
      ],
      "execution_count": null,
      "outputs": []
    },
    {
      "cell_type": "code",
      "metadata": {
        "colab": {
          "base_uri": "https://localhost:8080/"
        },
        "id": "gQL8GpK8UQGf",
        "outputId": "cfb4f766-8a4f-484f-ee85-14105d38fb28"
      },
      "source": [
        "model.layers"
      ],
      "execution_count": null,
      "outputs": [
        {
          "output_type": "execute_result",
          "data": {
            "text/plain": [
              "[<tensorflow.python.keras.layers.core.Flatten at 0x7f41419fcb38>,\n",
              " <tensorflow.python.keras.layers.core.Dense at 0x7f414617dc18>,\n",
              " <tensorflow.python.keras.layers.core.Dropout at 0x7f4141a025c0>,\n",
              " <tensorflow.python.keras.layers.core.Dense at 0x7f4141a02710>]"
            ]
          },
          "metadata": {
            "tags": []
          },
          "execution_count": 23
        }
      ]
    },
    {
      "cell_type": "markdown",
      "metadata": {
        "id": "Y8eMcF8QVeO0"
      },
      "source": [
        "model input and output shape remains the same"
      ]
    },
    {
      "cell_type": "code",
      "metadata": {
        "colab": {
          "base_uri": "https://localhost:8080/"
        },
        "id": "G2eh0c5-VXcS",
        "outputId": "8986e375-b0d2-4f65-9ced-1d5f27abbccd"
      },
      "source": [
        "model.input_shape"
      ],
      "execution_count": null,
      "outputs": [
        {
          "output_type": "execute_result",
          "data": {
            "text/plain": [
              "(None, 28, 28)"
            ]
          },
          "metadata": {
            "tags": []
          },
          "execution_count": 24
        }
      ]
    },
    {
      "cell_type": "code",
      "metadata": {
        "colab": {
          "base_uri": "https://localhost:8080/"
        },
        "id": "EMHyfr3WVaZt",
        "outputId": "6b88abf2-1dec-4b92-df4a-ac7a1047fa00"
      },
      "source": [
        "model.output_shape"
      ],
      "execution_count": null,
      "outputs": [
        {
          "output_type": "execute_result",
          "data": {
            "text/plain": [
              "(None, 10)"
            ]
          },
          "metadata": {
            "tags": []
          },
          "execution_count": 25
        }
      ]
    },
    {
      "cell_type": "markdown",
      "metadata": {
        "id": "XaSDRTukV69o"
      },
      "source": [
        "28 * 28   =784\r\n",
        "\r\n",
        "100480/128 = 785 (784 + 1 bias) \r\n",
        "\r\n",
        "784 * 128 = 100352 + 128 bias"
      ]
    },
    {
      "cell_type": "code",
      "metadata": {
        "colab": {
          "base_uri": "https://localhost:8080/"
        },
        "id": "ZHhn1_igVcVT",
        "outputId": "4351eb67-c378-46c9-830f-279bcccc658a"
      },
      "source": [
        "model.summary()"
      ],
      "execution_count": null,
      "outputs": [
        {
          "output_type": "stream",
          "text": [
            "Model: \"sequential_1\"\n",
            "_________________________________________________________________\n",
            "Layer (type)                 Output Shape              Param #   \n",
            "=================================================================\n",
            "flatten_1 (Flatten)          (None, 784)               0         \n",
            "_________________________________________________________________\n",
            "dense_2 (Dense)              (None, 128)               100480    \n",
            "_________________________________________________________________\n",
            "dropout_1 (Dropout)          (None, 128)               0         \n",
            "_________________________________________________________________\n",
            "dense_3 (Dense)              (None, 10)                1290      \n",
            "=================================================================\n",
            "Total params: 101,770\n",
            "Trainable params: 101,770\n",
            "Non-trainable params: 0\n",
            "_________________________________________________________________\n"
          ],
          "name": "stdout"
        }
      ]
    },
    {
      "cell_type": "code",
      "metadata": {
        "colab": {
          "base_uri": "https://localhost:8080/"
        },
        "id": "x_XpVSR2Vmml",
        "outputId": "6e79becd-98be-4cf2-fbe8-bd3a5eb783a6"
      },
      "source": [
        "x_train[:1] #all values ranging from 0 to 1"
      ],
      "execution_count": null,
      "outputs": [
        {
          "output_type": "execute_result",
          "data": {
            "text/plain": [
              "array([[[0.        , 0.        , 0.        , 0.        , 0.        ,\n",
              "         0.        , 0.        , 0.        , 0.        , 0.        ,\n",
              "         0.        , 0.        , 0.        , 0.        , 0.        ,\n",
              "         0.        , 0.        , 0.        , 0.        , 0.        ,\n",
              "         0.        , 0.        , 0.        , 0.        , 0.        ,\n",
              "         0.        , 0.        , 0.        ],\n",
              "        [0.        , 0.        , 0.        , 0.        , 0.        ,\n",
              "         0.        , 0.        , 0.        , 0.        , 0.        ,\n",
              "         0.        , 0.        , 0.        , 0.        , 0.        ,\n",
              "         0.        , 0.        , 0.        , 0.        , 0.        ,\n",
              "         0.        , 0.        , 0.        , 0.        , 0.        ,\n",
              "         0.        , 0.        , 0.        ],\n",
              "        [0.        , 0.        , 0.        , 0.        , 0.        ,\n",
              "         0.        , 0.        , 0.        , 0.        , 0.        ,\n",
              "         0.        , 0.        , 0.        , 0.        , 0.        ,\n",
              "         0.        , 0.        , 0.        , 0.        , 0.        ,\n",
              "         0.        , 0.        , 0.        , 0.        , 0.        ,\n",
              "         0.        , 0.        , 0.        ],\n",
              "        [0.        , 0.        , 0.        , 0.        , 0.        ,\n",
              "         0.        , 0.        , 0.        , 0.        , 0.        ,\n",
              "         0.        , 0.        , 0.        , 0.        , 0.        ,\n",
              "         0.        , 0.        , 0.        , 0.        , 0.        ,\n",
              "         0.        , 0.        , 0.        , 0.        , 0.        ,\n",
              "         0.        , 0.        , 0.        ],\n",
              "        [0.        , 0.        , 0.        , 0.        , 0.        ,\n",
              "         0.        , 0.        , 0.        , 0.        , 0.        ,\n",
              "         0.        , 0.        , 0.        , 0.        , 0.        ,\n",
              "         0.        , 0.        , 0.        , 0.        , 0.        ,\n",
              "         0.        , 0.        , 0.        , 0.        , 0.        ,\n",
              "         0.        , 0.        , 0.        ],\n",
              "        [0.        , 0.        , 0.        , 0.        , 0.        ,\n",
              "         0.        , 0.        , 0.        , 0.        , 0.        ,\n",
              "         0.        , 0.        , 0.01176471, 0.07058824, 0.07058824,\n",
              "         0.07058824, 0.49411765, 0.53333333, 0.68627451, 0.10196078,\n",
              "         0.65098039, 1.        , 0.96862745, 0.49803922, 0.        ,\n",
              "         0.        , 0.        , 0.        ],\n",
              "        [0.        , 0.        , 0.        , 0.        , 0.        ,\n",
              "         0.        , 0.        , 0.        , 0.11764706, 0.14117647,\n",
              "         0.36862745, 0.60392157, 0.66666667, 0.99215686, 0.99215686,\n",
              "         0.99215686, 0.99215686, 0.99215686, 0.88235294, 0.6745098 ,\n",
              "         0.99215686, 0.94901961, 0.76470588, 0.25098039, 0.        ,\n",
              "         0.        , 0.        , 0.        ],\n",
              "        [0.        , 0.        , 0.        , 0.        , 0.        ,\n",
              "         0.        , 0.        , 0.19215686, 0.93333333, 0.99215686,\n",
              "         0.99215686, 0.99215686, 0.99215686, 0.99215686, 0.99215686,\n",
              "         0.99215686, 0.99215686, 0.98431373, 0.36470588, 0.32156863,\n",
              "         0.32156863, 0.21960784, 0.15294118, 0.        , 0.        ,\n",
              "         0.        , 0.        , 0.        ],\n",
              "        [0.        , 0.        , 0.        , 0.        , 0.        ,\n",
              "         0.        , 0.        , 0.07058824, 0.85882353, 0.99215686,\n",
              "         0.99215686, 0.99215686, 0.99215686, 0.99215686, 0.77647059,\n",
              "         0.71372549, 0.96862745, 0.94509804, 0.        , 0.        ,\n",
              "         0.        , 0.        , 0.        , 0.        , 0.        ,\n",
              "         0.        , 0.        , 0.        ],\n",
              "        [0.        , 0.        , 0.        , 0.        , 0.        ,\n",
              "         0.        , 0.        , 0.        , 0.31372549, 0.61176471,\n",
              "         0.41960784, 0.99215686, 0.99215686, 0.80392157, 0.04313725,\n",
              "         0.        , 0.16862745, 0.60392157, 0.        , 0.        ,\n",
              "         0.        , 0.        , 0.        , 0.        , 0.        ,\n",
              "         0.        , 0.        , 0.        ],\n",
              "        [0.        , 0.        , 0.        , 0.        , 0.        ,\n",
              "         0.        , 0.        , 0.        , 0.        , 0.05490196,\n",
              "         0.00392157, 0.60392157, 0.99215686, 0.35294118, 0.        ,\n",
              "         0.        , 0.        , 0.        , 0.        , 0.        ,\n",
              "         0.        , 0.        , 0.        , 0.        , 0.        ,\n",
              "         0.        , 0.        , 0.        ],\n",
              "        [0.        , 0.        , 0.        , 0.        , 0.        ,\n",
              "         0.        , 0.        , 0.        , 0.        , 0.        ,\n",
              "         0.        , 0.54509804, 0.99215686, 0.74509804, 0.00784314,\n",
              "         0.        , 0.        , 0.        , 0.        , 0.        ,\n",
              "         0.        , 0.        , 0.        , 0.        , 0.        ,\n",
              "         0.        , 0.        , 0.        ],\n",
              "        [0.        , 0.        , 0.        , 0.        , 0.        ,\n",
              "         0.        , 0.        , 0.        , 0.        , 0.        ,\n",
              "         0.        , 0.04313725, 0.74509804, 0.99215686, 0.2745098 ,\n",
              "         0.        , 0.        , 0.        , 0.        , 0.        ,\n",
              "         0.        , 0.        , 0.        , 0.        , 0.        ,\n",
              "         0.        , 0.        , 0.        ],\n",
              "        [0.        , 0.        , 0.        , 0.        , 0.        ,\n",
              "         0.        , 0.        , 0.        , 0.        , 0.        ,\n",
              "         0.        , 0.        , 0.1372549 , 0.94509804, 0.88235294,\n",
              "         0.62745098, 0.42352941, 0.00392157, 0.        , 0.        ,\n",
              "         0.        , 0.        , 0.        , 0.        , 0.        ,\n",
              "         0.        , 0.        , 0.        ],\n",
              "        [0.        , 0.        , 0.        , 0.        , 0.        ,\n",
              "         0.        , 0.        , 0.        , 0.        , 0.        ,\n",
              "         0.        , 0.        , 0.        , 0.31764706, 0.94117647,\n",
              "         0.99215686, 0.99215686, 0.46666667, 0.09803922, 0.        ,\n",
              "         0.        , 0.        , 0.        , 0.        , 0.        ,\n",
              "         0.        , 0.        , 0.        ],\n",
              "        [0.        , 0.        , 0.        , 0.        , 0.        ,\n",
              "         0.        , 0.        , 0.        , 0.        , 0.        ,\n",
              "         0.        , 0.        , 0.        , 0.        , 0.17647059,\n",
              "         0.72941176, 0.99215686, 0.99215686, 0.58823529, 0.10588235,\n",
              "         0.        , 0.        , 0.        , 0.        , 0.        ,\n",
              "         0.        , 0.        , 0.        ],\n",
              "        [0.        , 0.        , 0.        , 0.        , 0.        ,\n",
              "         0.        , 0.        , 0.        , 0.        , 0.        ,\n",
              "         0.        , 0.        , 0.        , 0.        , 0.        ,\n",
              "         0.0627451 , 0.36470588, 0.98823529, 0.99215686, 0.73333333,\n",
              "         0.        , 0.        , 0.        , 0.        , 0.        ,\n",
              "         0.        , 0.        , 0.        ],\n",
              "        [0.        , 0.        , 0.        , 0.        , 0.        ,\n",
              "         0.        , 0.        , 0.        , 0.        , 0.        ,\n",
              "         0.        , 0.        , 0.        , 0.        , 0.        ,\n",
              "         0.        , 0.        , 0.97647059, 0.99215686, 0.97647059,\n",
              "         0.25098039, 0.        , 0.        , 0.        , 0.        ,\n",
              "         0.        , 0.        , 0.        ],\n",
              "        [0.        , 0.        , 0.        , 0.        , 0.        ,\n",
              "         0.        , 0.        , 0.        , 0.        , 0.        ,\n",
              "         0.        , 0.        , 0.        , 0.        , 0.18039216,\n",
              "         0.50980392, 0.71764706, 0.99215686, 0.99215686, 0.81176471,\n",
              "         0.00784314, 0.        , 0.        , 0.        , 0.        ,\n",
              "         0.        , 0.        , 0.        ],\n",
              "        [0.        , 0.        , 0.        , 0.        , 0.        ,\n",
              "         0.        , 0.        , 0.        , 0.        , 0.        ,\n",
              "         0.        , 0.        , 0.15294118, 0.58039216, 0.89803922,\n",
              "         0.99215686, 0.99215686, 0.99215686, 0.98039216, 0.71372549,\n",
              "         0.        , 0.        , 0.        , 0.        , 0.        ,\n",
              "         0.        , 0.        , 0.        ],\n",
              "        [0.        , 0.        , 0.        , 0.        , 0.        ,\n",
              "         0.        , 0.        , 0.        , 0.        , 0.        ,\n",
              "         0.09411765, 0.44705882, 0.86666667, 0.99215686, 0.99215686,\n",
              "         0.99215686, 0.99215686, 0.78823529, 0.30588235, 0.        ,\n",
              "         0.        , 0.        , 0.        , 0.        , 0.        ,\n",
              "         0.        , 0.        , 0.        ],\n",
              "        [0.        , 0.        , 0.        , 0.        , 0.        ,\n",
              "         0.        , 0.        , 0.        , 0.09019608, 0.25882353,\n",
              "         0.83529412, 0.99215686, 0.99215686, 0.99215686, 0.99215686,\n",
              "         0.77647059, 0.31764706, 0.00784314, 0.        , 0.        ,\n",
              "         0.        , 0.        , 0.        , 0.        , 0.        ,\n",
              "         0.        , 0.        , 0.        ],\n",
              "        [0.        , 0.        , 0.        , 0.        , 0.        ,\n",
              "         0.        , 0.07058824, 0.67058824, 0.85882353, 0.99215686,\n",
              "         0.99215686, 0.99215686, 0.99215686, 0.76470588, 0.31372549,\n",
              "         0.03529412, 0.        , 0.        , 0.        , 0.        ,\n",
              "         0.        , 0.        , 0.        , 0.        , 0.        ,\n",
              "         0.        , 0.        , 0.        ],\n",
              "        [0.        , 0.        , 0.        , 0.        , 0.21568627,\n",
              "         0.6745098 , 0.88627451, 0.99215686, 0.99215686, 0.99215686,\n",
              "         0.99215686, 0.95686275, 0.52156863, 0.04313725, 0.        ,\n",
              "         0.        , 0.        , 0.        , 0.        , 0.        ,\n",
              "         0.        , 0.        , 0.        , 0.        , 0.        ,\n",
              "         0.        , 0.        , 0.        ],\n",
              "        [0.        , 0.        , 0.        , 0.        , 0.53333333,\n",
              "         0.99215686, 0.99215686, 0.99215686, 0.83137255, 0.52941176,\n",
              "         0.51764706, 0.0627451 , 0.        , 0.        , 0.        ,\n",
              "         0.        , 0.        , 0.        , 0.        , 0.        ,\n",
              "         0.        , 0.        , 0.        , 0.        , 0.        ,\n",
              "         0.        , 0.        , 0.        ],\n",
              "        [0.        , 0.        , 0.        , 0.        , 0.        ,\n",
              "         0.        , 0.        , 0.        , 0.        , 0.        ,\n",
              "         0.        , 0.        , 0.        , 0.        , 0.        ,\n",
              "         0.        , 0.        , 0.        , 0.        , 0.        ,\n",
              "         0.        , 0.        , 0.        , 0.        , 0.        ,\n",
              "         0.        , 0.        , 0.        ],\n",
              "        [0.        , 0.        , 0.        , 0.        , 0.        ,\n",
              "         0.        , 0.        , 0.        , 0.        , 0.        ,\n",
              "         0.        , 0.        , 0.        , 0.        , 0.        ,\n",
              "         0.        , 0.        , 0.        , 0.        , 0.        ,\n",
              "         0.        , 0.        , 0.        , 0.        , 0.        ,\n",
              "         0.        , 0.        , 0.        ],\n",
              "        [0.        , 0.        , 0.        , 0.        , 0.        ,\n",
              "         0.        , 0.        , 0.        , 0.        , 0.        ,\n",
              "         0.        , 0.        , 0.        , 0.        , 0.        ,\n",
              "         0.        , 0.        , 0.        , 0.        , 0.        ,\n",
              "         0.        , 0.        , 0.        , 0.        , 0.        ,\n",
              "         0.        , 0.        , 0.        ]]])"
            ]
          },
          "metadata": {
            "tags": []
          },
          "execution_count": 28
        }
      ]
    },
    {
      "cell_type": "markdown",
      "metadata": {
        "id": "XrgWvU6XXw-L"
      },
      "source": [
        "converting values to numpy to perform mathematical operations"
      ]
    },
    {
      "cell_type": "code",
      "metadata": {
        "id": "SC1R4LbgWkWB"
      },
      "source": [
        "predictions = model(x_train[:1]).numpy()"
      ],
      "execution_count": null,
      "outputs": []
    },
    {
      "cell_type": "code",
      "metadata": {
        "colab": {
          "base_uri": "https://localhost:8080/"
        },
        "id": "O88q2IKFWy2h",
        "outputId": "af331593-da9a-418d-8a53-c90320c26c10"
      },
      "source": [
        "predictions"
      ],
      "execution_count": null,
      "outputs": [
        {
          "output_type": "execute_result",
          "data": {
            "text/plain": [
              "array([[-0.37221497, -0.11516631,  0.54476166,  0.6517483 , -0.08436126,\n",
              "        -0.16318311, -0.40708438,  0.5356556 ,  0.45380807,  0.10464229]],\n",
              "      dtype=float32)"
            ]
          },
          "metadata": {
            "tags": []
          },
          "execution_count": 30
        }
      ]
    },
    {
      "cell_type": "markdown",
      "metadata": {
        "id": "2GducQqDXAUU"
      },
      "source": [
        "The tf.nn.softmax function converts these logits to \"probabilities\" for each class"
      ]
    },
    {
      "cell_type": "code",
      "metadata": {
        "colab": {
          "base_uri": "https://localhost:8080/"
        },
        "id": "sF9rquReW0Wm",
        "outputId": "4b01114a-e717-4b2d-f7b1-9e3996b7d230"
      },
      "source": [
        "tf.nn.softmax(predictions).numpy() #When you have more than 1 class at the output"
      ],
      "execution_count": null,
      "outputs": [
        {
          "output_type": "execute_result",
          "data": {
            "text/plain": [
              "array([[0.05719166, 0.073955  , 0.14307725, 0.15923345, 0.07626864,\n",
              "        0.07048782, 0.05523179, 0.1417803 , 0.13063814, 0.09213597]],\n",
              "      dtype=float32)"
            ]
          },
          "metadata": {
            "tags": []
          },
          "execution_count": 32
        }
      ]
    },
    {
      "cell_type": "code",
      "metadata": {
        "id": "nsKmBMZtW8ER"
      },
      "source": [
        "loss_fn = tf.keras.losses.SparseCategoricalCrossentropy(from_logits=True) #logits - the raw value before we get probabilities(by multiplying logits by 100 to get percent output) "
      ],
      "execution_count": null,
      "outputs": []
    },
    {
      "cell_type": "code",
      "metadata": {
        "id": "TYrPVXF6Yj_6"
      },
      "source": [
        "model.compile(\r\n",
        "    optimizer = \"adam\",\r\n",
        "    loss = loss_fn,\r\n",
        "    metrics = ['accuracy']\r\n",
        ")"
      ],
      "execution_count": null,
      "outputs": []
    },
    {
      "cell_type": "markdown",
      "metadata": {
        "id": "ccPV64OGZkK0"
      },
      "source": [
        "The model.fit method adjusts the model parameters to minimize the loss"
      ]
    },
    {
      "cell_type": "code",
      "metadata": {
        "colab": {
          "base_uri": "https://localhost:8080/"
        },
        "id": "KpAwfG0QZHJq",
        "outputId": "495b6f6a-8c05-4dcc-d88e-ed8c4b7d8c67"
      },
      "source": [
        "model.fit(x_train,y_train,epochs = 5)"
      ],
      "execution_count": null,
      "outputs": [
        {
          "output_type": "stream",
          "text": [
            "Epoch 1/5\n",
            "1875/1875 [==============================] - 3s 1ms/step - loss: 0.4815 - accuracy: 0.8609\n",
            "Epoch 2/5\n",
            "1875/1875 [==============================] - 3s 1ms/step - loss: 0.1494 - accuracy: 0.9568\n",
            "Epoch 3/5\n",
            "1875/1875 [==============================] - 3s 1ms/step - loss: 0.1077 - accuracy: 0.9680\n",
            "Epoch 4/5\n",
            "1875/1875 [==============================] - 3s 1ms/step - loss: 0.0876 - accuracy: 0.9736\n",
            "Epoch 5/5\n",
            "1875/1875 [==============================] - 3s 1ms/step - loss: 0.0749 - accuracy: 0.9774\n"
          ],
          "name": "stdout"
        },
        {
          "output_type": "execute_result",
          "data": {
            "text/plain": [
              "<tensorflow.python.keras.callbacks.History at 0x7f41416a0630>"
            ]
          },
          "metadata": {
            "tags": []
          },
          "execution_count": 40
        }
      ]
    },
    {
      "cell_type": "markdown",
      "metadata": {
        "id": "oZayH7F9Zupe"
      },
      "source": [
        "The model.evaluate method cjecks the model performance, usually done on validation-set or test-set"
      ]
    },
    {
      "cell_type": "code",
      "metadata": {
        "colab": {
          "base_uri": "https://localhost:8080/"
        },
        "id": "SQu7eW3DZdCj",
        "outputId": "c57aedf1-c62b-4134-e059-3b39eba7ca26"
      },
      "source": [
        "model.evaluate(x_test,y_test,verbose=2) #verbose is just for aligning and making code look good"
      ],
      "execution_count": null,
      "outputs": [
        {
          "output_type": "stream",
          "text": [
            "313/313 - 0s - loss: 0.0776 - accuracy: 0.9772\n"
          ],
          "name": "stdout"
        },
        {
          "output_type": "execute_result",
          "data": {
            "text/plain": [
              "[0.07757928222417831, 0.9771999716758728]"
            ]
          },
          "metadata": {
            "tags": []
          },
          "execution_count": 44
        }
      ]
    },
    {
      "cell_type": "markdown",
      "metadata": {
        "id": "2gM4qgTjascA"
      },
      "source": [
        "The image classifier is now trained to 98% accuracy\r\n"
      ]
    },
    {
      "cell_type": "code",
      "metadata": {
        "id": "bduTBFYKaYhz"
      },
      "source": [
        "probability_model = tf.keras.Sequential(\r\n",
        "    [\r\n",
        "     model,\r\n",
        "     tf.keras.layers.Softmax() #adding activation function to output layer since we did not do that before\r\n",
        "    ]\r\n",
        ")"
      ],
      "execution_count": null,
      "outputs": []
    },
    {
      "cell_type": "code",
      "metadata": {
        "colab": {
          "base_uri": "https://localhost:8080/"
        },
        "id": "tsHKXp4AbZqr",
        "outputId": "bd22f030-8ac0-4a06-d141-dce0c55da3e0"
      },
      "source": [
        "probability_model(x_test[:5])"
      ],
      "execution_count": null,
      "outputs": [
        {
          "output_type": "execute_result",
          "data": {
            "text/plain": [
              "<tf.Tensor: shape=(5, 10), dtype=float32, numpy=\n",
              "array([[1.3695927e-06, 2.2865805e-09, 5.9261702e-06, 1.5327079e-05,\n",
              "        7.9614310e-12, 2.8559466e-08, 7.2165880e-12, 9.9997652e-01,\n",
              "        7.5022015e-09, 8.8006226e-07],\n",
              "       [1.2326038e-08, 3.2067273e-05, 9.9996161e-01, 6.2245454e-06,\n",
              "        1.8971297e-16, 1.2841259e-07, 5.0646394e-09, 1.8021332e-13,\n",
              "        5.8662977e-08, 2.1056617e-13],\n",
              "       [3.3806785e-07, 9.9947411e-01, 3.8330327e-05, 2.4443586e-06,\n",
              "        6.6204550e-05, 4.4735170e-06, 1.4367199e-05, 3.7300968e-04,\n",
              "        2.5449050e-05, 1.2705038e-06],\n",
              "       [9.9987316e-01, 6.5072281e-09, 1.9200015e-05, 6.5217449e-08,\n",
              "        8.9755571e-07, 1.0632383e-06, 4.0467046e-05, 6.4478270e-05,\n",
              "        2.7005221e-08, 5.7076113e-07],\n",
              "       [1.1950244e-06, 3.7658414e-09, 5.9337481e-06, 2.2975997e-09,\n",
              "        9.9870610e-01, 3.4071412e-09, 4.5194643e-06, 9.0230555e-05,\n",
              "        4.3539907e-07, 1.1915995e-03]], dtype=float32)>"
            ]
          },
          "metadata": {
            "tags": []
          },
          "execution_count": 46
        }
      ]
    },
    {
      "cell_type": "code",
      "metadata": {
        "id": "qVKLvNwGbcm0"
      },
      "source": [
        ""
      ],
      "execution_count": null,
      "outputs": []
    }
  ]
}