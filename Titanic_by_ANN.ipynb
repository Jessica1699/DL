{
  "nbformat": 4,
  "nbformat_minor": 0,
  "metadata": {
    "colab": {
      "name": "Titanic by ANN.ipynb",
      "provenance": [],
      "collapsed_sections": []
    },
    "kernelspec": {
      "name": "python3",
      "display_name": "Python 3"
    }
  },
  "cells": [
    {
      "cell_type": "code",
      "metadata": {
        "id": "sYqn8SXJcuK2"
      },
      "source": [
        "import pandas as pd"
      ],
      "execution_count": null,
      "outputs": []
    },
    {
      "cell_type": "code",
      "metadata": {
        "id": "B3MUFAw8gCRD"
      },
      "source": [
        "x = pd.read_csv(\"train.csv\")"
      ],
      "execution_count": null,
      "outputs": []
    },
    {
      "cell_type": "code",
      "metadata": {
        "colab": {
          "base_uri": "https://localhost:8080/",
          "height": 359
        },
        "id": "WFwiKMolgLn6",
        "outputId": "6d8fd890-23ad-43a7-a60a-ce93b4666ddb"
      },
      "source": [
        "x.head(10)"
      ],
      "execution_count": null,
      "outputs": [
        {
          "output_type": "execute_result",
          "data": {
            "text/html": [
              "<div>\n",
              "<style scoped>\n",
              "    .dataframe tbody tr th:only-of-type {\n",
              "        vertical-align: middle;\n",
              "    }\n",
              "\n",
              "    .dataframe tbody tr th {\n",
              "        vertical-align: top;\n",
              "    }\n",
              "\n",
              "    .dataframe thead th {\n",
              "        text-align: right;\n",
              "    }\n",
              "</style>\n",
              "<table border=\"1\" class=\"dataframe\">\n",
              "  <thead>\n",
              "    <tr style=\"text-align: right;\">\n",
              "      <th></th>\n",
              "      <th>PassengerId</th>\n",
              "      <th>Survived</th>\n",
              "      <th>Pclass</th>\n",
              "      <th>Name</th>\n",
              "      <th>Sex</th>\n",
              "      <th>Age</th>\n",
              "      <th>SibSp</th>\n",
              "      <th>Parch</th>\n",
              "      <th>Ticket</th>\n",
              "      <th>Fare</th>\n",
              "      <th>Cabin</th>\n",
              "      <th>Embarked</th>\n",
              "    </tr>\n",
              "  </thead>\n",
              "  <tbody>\n",
              "    <tr>\n",
              "      <th>0</th>\n",
              "      <td>1</td>\n",
              "      <td>0</td>\n",
              "      <td>3</td>\n",
              "      <td>Braund, Mr. Owen Harris</td>\n",
              "      <td>male</td>\n",
              "      <td>22.0</td>\n",
              "      <td>1</td>\n",
              "      <td>0</td>\n",
              "      <td>A/5 21171</td>\n",
              "      <td>7.2500</td>\n",
              "      <td>NaN</td>\n",
              "      <td>S</td>\n",
              "    </tr>\n",
              "    <tr>\n",
              "      <th>1</th>\n",
              "      <td>2</td>\n",
              "      <td>1</td>\n",
              "      <td>1</td>\n",
              "      <td>Cumings, Mrs. John Bradley (Florence Briggs Th...</td>\n",
              "      <td>female</td>\n",
              "      <td>38.0</td>\n",
              "      <td>1</td>\n",
              "      <td>0</td>\n",
              "      <td>PC 17599</td>\n",
              "      <td>71.2833</td>\n",
              "      <td>C85</td>\n",
              "      <td>C</td>\n",
              "    </tr>\n",
              "    <tr>\n",
              "      <th>2</th>\n",
              "      <td>3</td>\n",
              "      <td>1</td>\n",
              "      <td>3</td>\n",
              "      <td>Heikkinen, Miss. Laina</td>\n",
              "      <td>female</td>\n",
              "      <td>26.0</td>\n",
              "      <td>0</td>\n",
              "      <td>0</td>\n",
              "      <td>STON/O2. 3101282</td>\n",
              "      <td>7.9250</td>\n",
              "      <td>NaN</td>\n",
              "      <td>S</td>\n",
              "    </tr>\n",
              "    <tr>\n",
              "      <th>3</th>\n",
              "      <td>4</td>\n",
              "      <td>1</td>\n",
              "      <td>1</td>\n",
              "      <td>Futrelle, Mrs. Jacques Heath (Lily May Peel)</td>\n",
              "      <td>female</td>\n",
              "      <td>35.0</td>\n",
              "      <td>1</td>\n",
              "      <td>0</td>\n",
              "      <td>113803</td>\n",
              "      <td>53.1000</td>\n",
              "      <td>C123</td>\n",
              "      <td>S</td>\n",
              "    </tr>\n",
              "    <tr>\n",
              "      <th>4</th>\n",
              "      <td>5</td>\n",
              "      <td>0</td>\n",
              "      <td>3</td>\n",
              "      <td>Allen, Mr. William Henry</td>\n",
              "      <td>male</td>\n",
              "      <td>35.0</td>\n",
              "      <td>0</td>\n",
              "      <td>0</td>\n",
              "      <td>373450</td>\n",
              "      <td>8.0500</td>\n",
              "      <td>NaN</td>\n",
              "      <td>S</td>\n",
              "    </tr>\n",
              "    <tr>\n",
              "      <th>5</th>\n",
              "      <td>6</td>\n",
              "      <td>0</td>\n",
              "      <td>3</td>\n",
              "      <td>Moran, Mr. James</td>\n",
              "      <td>male</td>\n",
              "      <td>NaN</td>\n",
              "      <td>0</td>\n",
              "      <td>0</td>\n",
              "      <td>330877</td>\n",
              "      <td>8.4583</td>\n",
              "      <td>NaN</td>\n",
              "      <td>Q</td>\n",
              "    </tr>\n",
              "    <tr>\n",
              "      <th>6</th>\n",
              "      <td>7</td>\n",
              "      <td>0</td>\n",
              "      <td>1</td>\n",
              "      <td>McCarthy, Mr. Timothy J</td>\n",
              "      <td>male</td>\n",
              "      <td>54.0</td>\n",
              "      <td>0</td>\n",
              "      <td>0</td>\n",
              "      <td>17463</td>\n",
              "      <td>51.8625</td>\n",
              "      <td>E46</td>\n",
              "      <td>S</td>\n",
              "    </tr>\n",
              "    <tr>\n",
              "      <th>7</th>\n",
              "      <td>8</td>\n",
              "      <td>0</td>\n",
              "      <td>3</td>\n",
              "      <td>Palsson, Master. Gosta Leonard</td>\n",
              "      <td>male</td>\n",
              "      <td>2.0</td>\n",
              "      <td>3</td>\n",
              "      <td>1</td>\n",
              "      <td>349909</td>\n",
              "      <td>21.0750</td>\n",
              "      <td>NaN</td>\n",
              "      <td>S</td>\n",
              "    </tr>\n",
              "    <tr>\n",
              "      <th>8</th>\n",
              "      <td>9</td>\n",
              "      <td>1</td>\n",
              "      <td>3</td>\n",
              "      <td>Johnson, Mrs. Oscar W (Elisabeth Vilhelmina Berg)</td>\n",
              "      <td>female</td>\n",
              "      <td>27.0</td>\n",
              "      <td>0</td>\n",
              "      <td>2</td>\n",
              "      <td>347742</td>\n",
              "      <td>11.1333</td>\n",
              "      <td>NaN</td>\n",
              "      <td>S</td>\n",
              "    </tr>\n",
              "    <tr>\n",
              "      <th>9</th>\n",
              "      <td>10</td>\n",
              "      <td>1</td>\n",
              "      <td>2</td>\n",
              "      <td>Nasser, Mrs. Nicholas (Adele Achem)</td>\n",
              "      <td>female</td>\n",
              "      <td>14.0</td>\n",
              "      <td>1</td>\n",
              "      <td>0</td>\n",
              "      <td>237736</td>\n",
              "      <td>30.0708</td>\n",
              "      <td>NaN</td>\n",
              "      <td>C</td>\n",
              "    </tr>\n",
              "  </tbody>\n",
              "</table>\n",
              "</div>"
            ],
            "text/plain": [
              "   PassengerId  Survived  Pclass  ...     Fare Cabin  Embarked\n",
              "0            1         0       3  ...   7.2500   NaN         S\n",
              "1            2         1       1  ...  71.2833   C85         C\n",
              "2            3         1       3  ...   7.9250   NaN         S\n",
              "3            4         1       1  ...  53.1000  C123         S\n",
              "4            5         0       3  ...   8.0500   NaN         S\n",
              "5            6         0       3  ...   8.4583   NaN         Q\n",
              "6            7         0       1  ...  51.8625   E46         S\n",
              "7            8         0       3  ...  21.0750   NaN         S\n",
              "8            9         1       3  ...  11.1333   NaN         S\n",
              "9           10         1       2  ...  30.0708   NaN         C\n",
              "\n",
              "[10 rows x 12 columns]"
            ]
          },
          "metadata": {
            "tags": []
          },
          "execution_count": 4
        }
      ]
    },
    {
      "cell_type": "code",
      "metadata": {
        "colab": {
          "base_uri": "https://localhost:8080/"
        },
        "id": "OoB9a6-NgOEM",
        "outputId": "8c3b4f89-0adb-4249-82cc-00164e060808"
      },
      "source": [
        "x.isnull().sum()"
      ],
      "execution_count": null,
      "outputs": [
        {
          "output_type": "execute_result",
          "data": {
            "text/plain": [
              "PassengerId      0\n",
              "Survived         0\n",
              "Pclass           0\n",
              "Name             0\n",
              "Sex              0\n",
              "Age            177\n",
              "SibSp            0\n",
              "Parch            0\n",
              "Ticket           0\n",
              "Fare             0\n",
              "Cabin          687\n",
              "Embarked         2\n",
              "dtype: int64"
            ]
          },
          "metadata": {
            "tags": []
          },
          "execution_count": 6
        }
      ]
    },
    {
      "cell_type": "code",
      "metadata": {
        "colab": {
          "base_uri": "https://localhost:8080/"
        },
        "id": "2na1S5lIgX_2",
        "outputId": "c6ea6acf-82c7-4bac-f49f-e9c8905dc044"
      },
      "source": [
        "x.columns"
      ],
      "execution_count": null,
      "outputs": [
        {
          "output_type": "execute_result",
          "data": {
            "text/plain": [
              "Index(['PassengerId', 'Survived', 'Pclass', 'Name', 'Sex', 'Age', 'SibSp',\n",
              "       'Parch', 'Ticket', 'Fare', 'Cabin', 'Embarked'],\n",
              "      dtype='object')"
            ]
          },
          "metadata": {
            "tags": []
          },
          "execution_count": 7
        }
      ]
    },
    {
      "cell_type": "code",
      "metadata": {
        "id": "1aXX3qTJgzWc"
      },
      "source": [
        "x.drop(columns={'PassengerId','Name','Ticket','Cabin', 'Embarked'},inplace=True)"
      ],
      "execution_count": null,
      "outputs": []
    },
    {
      "cell_type": "code",
      "metadata": {
        "colab": {
          "base_uri": "https://localhost:8080/",
          "height": 204
        },
        "id": "XwRWKmqlhNRH",
        "outputId": "112cd013-72e9-4568-8af5-d21470278bb7"
      },
      "source": [
        "x.head()"
      ],
      "execution_count": null,
      "outputs": [
        {
          "output_type": "execute_result",
          "data": {
            "text/html": [
              "<div>\n",
              "<style scoped>\n",
              "    .dataframe tbody tr th:only-of-type {\n",
              "        vertical-align: middle;\n",
              "    }\n",
              "\n",
              "    .dataframe tbody tr th {\n",
              "        vertical-align: top;\n",
              "    }\n",
              "\n",
              "    .dataframe thead th {\n",
              "        text-align: right;\n",
              "    }\n",
              "</style>\n",
              "<table border=\"1\" class=\"dataframe\">\n",
              "  <thead>\n",
              "    <tr style=\"text-align: right;\">\n",
              "      <th></th>\n",
              "      <th>Survived</th>\n",
              "      <th>Pclass</th>\n",
              "      <th>Sex</th>\n",
              "      <th>Age</th>\n",
              "      <th>SibSp</th>\n",
              "      <th>Parch</th>\n",
              "      <th>Fare</th>\n",
              "    </tr>\n",
              "  </thead>\n",
              "  <tbody>\n",
              "    <tr>\n",
              "      <th>0</th>\n",
              "      <td>0</td>\n",
              "      <td>3</td>\n",
              "      <td>male</td>\n",
              "      <td>22.0</td>\n",
              "      <td>1</td>\n",
              "      <td>0</td>\n",
              "      <td>7.2500</td>\n",
              "    </tr>\n",
              "    <tr>\n",
              "      <th>1</th>\n",
              "      <td>1</td>\n",
              "      <td>1</td>\n",
              "      <td>female</td>\n",
              "      <td>38.0</td>\n",
              "      <td>1</td>\n",
              "      <td>0</td>\n",
              "      <td>71.2833</td>\n",
              "    </tr>\n",
              "    <tr>\n",
              "      <th>2</th>\n",
              "      <td>1</td>\n",
              "      <td>3</td>\n",
              "      <td>female</td>\n",
              "      <td>26.0</td>\n",
              "      <td>0</td>\n",
              "      <td>0</td>\n",
              "      <td>7.9250</td>\n",
              "    </tr>\n",
              "    <tr>\n",
              "      <th>3</th>\n",
              "      <td>1</td>\n",
              "      <td>1</td>\n",
              "      <td>female</td>\n",
              "      <td>35.0</td>\n",
              "      <td>1</td>\n",
              "      <td>0</td>\n",
              "      <td>53.1000</td>\n",
              "    </tr>\n",
              "    <tr>\n",
              "      <th>4</th>\n",
              "      <td>0</td>\n",
              "      <td>3</td>\n",
              "      <td>male</td>\n",
              "      <td>35.0</td>\n",
              "      <td>0</td>\n",
              "      <td>0</td>\n",
              "      <td>8.0500</td>\n",
              "    </tr>\n",
              "  </tbody>\n",
              "</table>\n",
              "</div>"
            ],
            "text/plain": [
              "   Survived  Pclass     Sex   Age  SibSp  Parch     Fare\n",
              "0         0       3    male  22.0      1      0   7.2500\n",
              "1         1       1  female  38.0      1      0  71.2833\n",
              "2         1       3  female  26.0      0      0   7.9250\n",
              "3         1       1  female  35.0      1      0  53.1000\n",
              "4         0       3    male  35.0      0      0   8.0500"
            ]
          },
          "metadata": {
            "tags": []
          },
          "execution_count": 9
        }
      ]
    },
    {
      "cell_type": "code",
      "metadata": {
        "id": "7m7gmuBChQh7"
      },
      "source": [
        "target = x.Survived"
      ],
      "execution_count": null,
      "outputs": []
    },
    {
      "cell_type": "code",
      "metadata": {
        "id": "ltjiUYwahYAX"
      },
      "source": [
        "x.drop(columns=\"Survived\",inplace=True)"
      ],
      "execution_count": null,
      "outputs": []
    },
    {
      "cell_type": "code",
      "metadata": {
        "colab": {
          "base_uri": "https://localhost:8080/"
        },
        "id": "TDreZftMhepG",
        "outputId": "e7a8405f-fe66-4214-df15-7c23eed2f29c"
      },
      "source": [
        "target.head()"
      ],
      "execution_count": null,
      "outputs": [
        {
          "output_type": "execute_result",
          "data": {
            "text/plain": [
              "0    0\n",
              "1    1\n",
              "2    1\n",
              "3    1\n",
              "4    0\n",
              "Name: Survived, dtype: int64"
            ]
          },
          "metadata": {
            "tags": []
          },
          "execution_count": 13
        }
      ]
    },
    {
      "cell_type": "code",
      "metadata": {
        "colab": {
          "base_uri": "https://localhost:8080/",
          "height": 204
        },
        "id": "WriK0JNPhkMm",
        "outputId": "a04932f0-1c9e-4f1e-f9a9-a14708ed5637"
      },
      "source": [
        "x.head()"
      ],
      "execution_count": null,
      "outputs": [
        {
          "output_type": "execute_result",
          "data": {
            "text/html": [
              "<div>\n",
              "<style scoped>\n",
              "    .dataframe tbody tr th:only-of-type {\n",
              "        vertical-align: middle;\n",
              "    }\n",
              "\n",
              "    .dataframe tbody tr th {\n",
              "        vertical-align: top;\n",
              "    }\n",
              "\n",
              "    .dataframe thead th {\n",
              "        text-align: right;\n",
              "    }\n",
              "</style>\n",
              "<table border=\"1\" class=\"dataframe\">\n",
              "  <thead>\n",
              "    <tr style=\"text-align: right;\">\n",
              "      <th></th>\n",
              "      <th>Pclass</th>\n",
              "      <th>Sex</th>\n",
              "      <th>Age</th>\n",
              "      <th>SibSp</th>\n",
              "      <th>Parch</th>\n",
              "      <th>Fare</th>\n",
              "    </tr>\n",
              "  </thead>\n",
              "  <tbody>\n",
              "    <tr>\n",
              "      <th>0</th>\n",
              "      <td>3</td>\n",
              "      <td>male</td>\n",
              "      <td>22.0</td>\n",
              "      <td>1</td>\n",
              "      <td>0</td>\n",
              "      <td>7.2500</td>\n",
              "    </tr>\n",
              "    <tr>\n",
              "      <th>1</th>\n",
              "      <td>1</td>\n",
              "      <td>female</td>\n",
              "      <td>38.0</td>\n",
              "      <td>1</td>\n",
              "      <td>0</td>\n",
              "      <td>71.2833</td>\n",
              "    </tr>\n",
              "    <tr>\n",
              "      <th>2</th>\n",
              "      <td>3</td>\n",
              "      <td>female</td>\n",
              "      <td>26.0</td>\n",
              "      <td>0</td>\n",
              "      <td>0</td>\n",
              "      <td>7.9250</td>\n",
              "    </tr>\n",
              "    <tr>\n",
              "      <th>3</th>\n",
              "      <td>1</td>\n",
              "      <td>female</td>\n",
              "      <td>35.0</td>\n",
              "      <td>1</td>\n",
              "      <td>0</td>\n",
              "      <td>53.1000</td>\n",
              "    </tr>\n",
              "    <tr>\n",
              "      <th>4</th>\n",
              "      <td>3</td>\n",
              "      <td>male</td>\n",
              "      <td>35.0</td>\n",
              "      <td>0</td>\n",
              "      <td>0</td>\n",
              "      <td>8.0500</td>\n",
              "    </tr>\n",
              "  </tbody>\n",
              "</table>\n",
              "</div>"
            ],
            "text/plain": [
              "   Pclass     Sex   Age  SibSp  Parch     Fare\n",
              "0       3    male  22.0      1      0   7.2500\n",
              "1       1  female  38.0      1      0  71.2833\n",
              "2       3  female  26.0      0      0   7.9250\n",
              "3       1  female  35.0      1      0  53.1000\n",
              "4       3    male  35.0      0      0   8.0500"
            ]
          },
          "metadata": {
            "tags": []
          },
          "execution_count": 14
        }
      ]
    },
    {
      "cell_type": "code",
      "metadata": {
        "colab": {
          "base_uri": "https://localhost:8080/"
        },
        "id": "9wy5-KfQhlaV",
        "outputId": "813c3c90-eaf2-4b17-a117-69028ce08f34"
      },
      "source": [
        "x.isnull().sum()"
      ],
      "execution_count": null,
      "outputs": [
        {
          "output_type": "execute_result",
          "data": {
            "text/plain": [
              "Pclass      0\n",
              "Sex         0\n",
              "Age       177\n",
              "SibSp       0\n",
              "Parch       0\n",
              "Fare        0\n",
              "dtype: int64"
            ]
          },
          "metadata": {
            "tags": []
          },
          "execution_count": 15
        }
      ]
    },
    {
      "cell_type": "code",
      "metadata": {
        "id": "bY4oq41NhrpK"
      },
      "source": [
        "x = pd.get_dummies(x,drop_first=True)"
      ],
      "execution_count": null,
      "outputs": []
    },
    {
      "cell_type": "code",
      "metadata": {
        "colab": {
          "base_uri": "https://localhost:8080/",
          "height": 204
        },
        "id": "4DNlZSx-h0mL",
        "outputId": "9bc8ce16-5969-41b1-a21c-2875b8b010a5"
      },
      "source": [
        "x.head()"
      ],
      "execution_count": null,
      "outputs": [
        {
          "output_type": "execute_result",
          "data": {
            "text/html": [
              "<div>\n",
              "<style scoped>\n",
              "    .dataframe tbody tr th:only-of-type {\n",
              "        vertical-align: middle;\n",
              "    }\n",
              "\n",
              "    .dataframe tbody tr th {\n",
              "        vertical-align: top;\n",
              "    }\n",
              "\n",
              "    .dataframe thead th {\n",
              "        text-align: right;\n",
              "    }\n",
              "</style>\n",
              "<table border=\"1\" class=\"dataframe\">\n",
              "  <thead>\n",
              "    <tr style=\"text-align: right;\">\n",
              "      <th></th>\n",
              "      <th>Pclass</th>\n",
              "      <th>Age</th>\n",
              "      <th>SibSp</th>\n",
              "      <th>Parch</th>\n",
              "      <th>Fare</th>\n",
              "      <th>Sex_male</th>\n",
              "    </tr>\n",
              "  </thead>\n",
              "  <tbody>\n",
              "    <tr>\n",
              "      <th>0</th>\n",
              "      <td>3</td>\n",
              "      <td>22.0</td>\n",
              "      <td>1</td>\n",
              "      <td>0</td>\n",
              "      <td>7.2500</td>\n",
              "      <td>1</td>\n",
              "    </tr>\n",
              "    <tr>\n",
              "      <th>1</th>\n",
              "      <td>1</td>\n",
              "      <td>38.0</td>\n",
              "      <td>1</td>\n",
              "      <td>0</td>\n",
              "      <td>71.2833</td>\n",
              "      <td>0</td>\n",
              "    </tr>\n",
              "    <tr>\n",
              "      <th>2</th>\n",
              "      <td>3</td>\n",
              "      <td>26.0</td>\n",
              "      <td>0</td>\n",
              "      <td>0</td>\n",
              "      <td>7.9250</td>\n",
              "      <td>0</td>\n",
              "    </tr>\n",
              "    <tr>\n",
              "      <th>3</th>\n",
              "      <td>1</td>\n",
              "      <td>35.0</td>\n",
              "      <td>1</td>\n",
              "      <td>0</td>\n",
              "      <td>53.1000</td>\n",
              "      <td>0</td>\n",
              "    </tr>\n",
              "    <tr>\n",
              "      <th>4</th>\n",
              "      <td>3</td>\n",
              "      <td>35.0</td>\n",
              "      <td>0</td>\n",
              "      <td>0</td>\n",
              "      <td>8.0500</td>\n",
              "      <td>1</td>\n",
              "    </tr>\n",
              "  </tbody>\n",
              "</table>\n",
              "</div>"
            ],
            "text/plain": [
              "   Pclass   Age  SibSp  Parch     Fare  Sex_male\n",
              "0       3  22.0      1      0   7.2500         1\n",
              "1       1  38.0      1      0  71.2833         0\n",
              "2       3  26.0      0      0   7.9250         0\n",
              "3       1  35.0      1      0  53.1000         0\n",
              "4       3  35.0      0      0   8.0500         1"
            ]
          },
          "metadata": {
            "tags": []
          },
          "execution_count": 17
        }
      ]
    },
    {
      "cell_type": "code",
      "metadata": {
        "colab": {
          "base_uri": "https://localhost:8080/"
        },
        "id": "KqJ18Oqkh1pm",
        "outputId": "bcaf2eaa-5bf2-498a-82c3-efdd99743afc"
      },
      "source": [
        "x.isnull().sum()"
      ],
      "execution_count": null,
      "outputs": [
        {
          "output_type": "execute_result",
          "data": {
            "text/plain": [
              "Pclass        0\n",
              "Age         177\n",
              "SibSp         0\n",
              "Parch         0\n",
              "Fare          0\n",
              "Sex_male      0\n",
              "dtype: int64"
            ]
          },
          "metadata": {
            "tags": []
          },
          "execution_count": 18
        }
      ]
    },
    {
      "cell_type": "code",
      "metadata": {
        "id": "F_bJMU58h6D7"
      },
      "source": [
        "x.fillna(x.mean(),inplace=True)"
      ],
      "execution_count": null,
      "outputs": []
    },
    {
      "cell_type": "code",
      "metadata": {
        "colab": {
          "base_uri": "https://localhost:8080/"
        },
        "id": "MndcCCSiiCFI",
        "outputId": "684b2100-b88d-49a3-b4b4-71abdee00ca1"
      },
      "source": [
        "x.isnull().sum()"
      ],
      "execution_count": null,
      "outputs": [
        {
          "output_type": "execute_result",
          "data": {
            "text/plain": [
              "Pclass      0\n",
              "Age         0\n",
              "SibSp       0\n",
              "Parch       0\n",
              "Fare        0\n",
              "Sex_male    0\n",
              "dtype: int64"
            ]
          },
          "metadata": {
            "tags": []
          },
          "execution_count": 20
        }
      ]
    },
    {
      "cell_type": "code",
      "metadata": {
        "colab": {
          "base_uri": "https://localhost:8080/",
          "height": 204
        },
        "id": "C-3_vjKIiE2p",
        "outputId": "c411f8f4-4a38-43d2-cb32-27bf7ed374b6"
      },
      "source": [
        "x.head()"
      ],
      "execution_count": null,
      "outputs": [
        {
          "output_type": "execute_result",
          "data": {
            "text/html": [
              "<div>\n",
              "<style scoped>\n",
              "    .dataframe tbody tr th:only-of-type {\n",
              "        vertical-align: middle;\n",
              "    }\n",
              "\n",
              "    .dataframe tbody tr th {\n",
              "        vertical-align: top;\n",
              "    }\n",
              "\n",
              "    .dataframe thead th {\n",
              "        text-align: right;\n",
              "    }\n",
              "</style>\n",
              "<table border=\"1\" class=\"dataframe\">\n",
              "  <thead>\n",
              "    <tr style=\"text-align: right;\">\n",
              "      <th></th>\n",
              "      <th>Pclass</th>\n",
              "      <th>Age</th>\n",
              "      <th>SibSp</th>\n",
              "      <th>Parch</th>\n",
              "      <th>Fare</th>\n",
              "      <th>Sex_male</th>\n",
              "    </tr>\n",
              "  </thead>\n",
              "  <tbody>\n",
              "    <tr>\n",
              "      <th>0</th>\n",
              "      <td>3</td>\n",
              "      <td>22.0</td>\n",
              "      <td>1</td>\n",
              "      <td>0</td>\n",
              "      <td>7.2500</td>\n",
              "      <td>1</td>\n",
              "    </tr>\n",
              "    <tr>\n",
              "      <th>1</th>\n",
              "      <td>1</td>\n",
              "      <td>38.0</td>\n",
              "      <td>1</td>\n",
              "      <td>0</td>\n",
              "      <td>71.2833</td>\n",
              "      <td>0</td>\n",
              "    </tr>\n",
              "    <tr>\n",
              "      <th>2</th>\n",
              "      <td>3</td>\n",
              "      <td>26.0</td>\n",
              "      <td>0</td>\n",
              "      <td>0</td>\n",
              "      <td>7.9250</td>\n",
              "      <td>0</td>\n",
              "    </tr>\n",
              "    <tr>\n",
              "      <th>3</th>\n",
              "      <td>1</td>\n",
              "      <td>35.0</td>\n",
              "      <td>1</td>\n",
              "      <td>0</td>\n",
              "      <td>53.1000</td>\n",
              "      <td>0</td>\n",
              "    </tr>\n",
              "    <tr>\n",
              "      <th>4</th>\n",
              "      <td>3</td>\n",
              "      <td>35.0</td>\n",
              "      <td>0</td>\n",
              "      <td>0</td>\n",
              "      <td>8.0500</td>\n",
              "      <td>1</td>\n",
              "    </tr>\n",
              "  </tbody>\n",
              "</table>\n",
              "</div>"
            ],
            "text/plain": [
              "   Pclass   Age  SibSp  Parch     Fare  Sex_male\n",
              "0       3  22.0      1      0   7.2500         1\n",
              "1       1  38.0      1      0  71.2833         0\n",
              "2       3  26.0      0      0   7.9250         0\n",
              "3       1  35.0      1      0  53.1000         0\n",
              "4       3  35.0      0      0   8.0500         1"
            ]
          },
          "metadata": {
            "tags": []
          },
          "execution_count": 21
        }
      ]
    },
    {
      "cell_type": "code",
      "metadata": {
        "id": "7pXMpHTyi9ot"
      },
      "source": [
        "from sklearn.model_selection import train_test_split"
      ],
      "execution_count": null,
      "outputs": []
    },
    {
      "cell_type": "code",
      "metadata": {
        "id": "0FKZUlPYiIqF"
      },
      "source": [
        "x_train,x_test,y_train,y_test = train_test_split(x,target,test_size=0.3)"
      ],
      "execution_count": null,
      "outputs": []
    },
    {
      "cell_type": "code",
      "metadata": {
        "colab": {
          "base_uri": "https://localhost:8080/"
        },
        "id": "4vN1FrzyjNPX",
        "outputId": "aba23fd4-dce0-448b-8e98-6199e20e7eaf"
      },
      "source": [
        "x_train.shape"
      ],
      "execution_count": null,
      "outputs": [
        {
          "output_type": "execute_result",
          "data": {
            "text/plain": [
              "(623, 6)"
            ]
          },
          "metadata": {
            "tags": []
          },
          "execution_count": 24
        }
      ]
    },
    {
      "cell_type": "code",
      "metadata": {
        "colab": {
          "base_uri": "https://localhost:8080/"
        },
        "id": "oLXG_wDTjUzq",
        "outputId": "3dc6c17e-3117-4bf3-f708-4ddaf58cfff3"
      },
      "source": [
        "y_train.shape"
      ],
      "execution_count": null,
      "outputs": [
        {
          "output_type": "execute_result",
          "data": {
            "text/plain": [
              "(623,)"
            ]
          },
          "metadata": {
            "tags": []
          },
          "execution_count": 25
        }
      ]
    },
    {
      "cell_type": "code",
      "metadata": {
        "colab": {
          "base_uri": "https://localhost:8080/"
        },
        "id": "q3TZUlgUk6-K",
        "outputId": "683b85ff-c002-4478-ba25-31ad2db07755"
      },
      "source": [
        "x.shape[1] #no.of columns"
      ],
      "execution_count": null,
      "outputs": [
        {
          "output_type": "execute_result",
          "data": {
            "text/plain": [
              "6"
            ]
          },
          "metadata": {
            "tags": []
          },
          "execution_count": 31
        }
      ]
    },
    {
      "cell_type": "code",
      "metadata": {
        "id": "xafBlc77jX_1"
      },
      "source": [
        "from tensorflow.keras import models\r\n",
        "from tensorflow.keras import layers"
      ],
      "execution_count": null,
      "outputs": []
    },
    {
      "cell_type": "code",
      "metadata": {
        "id": "OsRT8ZpykA_L"
      },
      "source": [
        "model = models.Sequential()"
      ],
      "execution_count": null,
      "outputs": []
    },
    {
      "cell_type": "code",
      "metadata": {
        "id": "xoFh5e1xkGuL"
      },
      "source": [
        "model.add(layers.Dense(units=x.shape[1],kernel_initializer='uniform',activation='relu'))\r\n",
        "model.add(layers.Dense(units=9,kernel_initializer='uniform',activation='relu'))\r\n",
        "model.add(layers.Dense(units=9,kernel_initializer='uniform',activation='relu'))\r\n",
        "model.add(layers.Dense(units=1,kernel_initializer='uniform',activation='sigmoid')) #binary classification problem"
      ],
      "execution_count": null,
      "outputs": []
    },
    {
      "cell_type": "code",
      "metadata": {
        "id": "hKV8XoWHkJVC"
      },
      "source": [
        "model.compile(optimizer='adam',\r\n",
        "              loss='binary_crossentropy',\r\n",
        "              metrics=['accuracy']\r\n",
        "              )"
      ],
      "execution_count": null,
      "outputs": []
    },
    {
      "cell_type": "code",
      "metadata": {
        "colab": {
          "base_uri": "https://localhost:8080/"
        },
        "id": "7db0wPgqlzY6",
        "outputId": "1865d911-70ad-4713-b0ef-daa74fa08b57"
      },
      "source": [
        "model.layers"
      ],
      "execution_count": null,
      "outputs": [
        {
          "output_type": "execute_result",
          "data": {
            "text/plain": [
              "[<tensorflow.python.keras.layers.core.Dense at 0x7f6a6948a438>,\n",
              " <tensorflow.python.keras.layers.core.Dense at 0x7f6a695a9710>,\n",
              " <tensorflow.python.keras.layers.core.Dense at 0x7f6a695a9908>,\n",
              " <tensorflow.python.keras.layers.core.Dense at 0x7f6a6948a470>]"
            ]
          },
          "metadata": {
            "tags": []
          },
          "execution_count": 37
        }
      ]
    },
    {
      "cell_type": "code",
      "metadata": {
        "colab": {
          "base_uri": "https://localhost:8080/"
        },
        "id": "O_UzsexGl_sa",
        "outputId": "04e1e978-506c-41b9-dfcc-4af0b583c2cb"
      },
      "source": [
        "model.fit(x_train,y_train,epochs=32,batch_size=20)"
      ],
      "execution_count": null,
      "outputs": [
        {
          "output_type": "stream",
          "text": [
            "Epoch 1/32\n",
            "32/32 [==============================] - 1s 1ms/step - loss: 0.6921 - accuracy: 0.6294\n",
            "Epoch 2/32\n",
            "32/32 [==============================] - 0s 1ms/step - loss: 0.6869 - accuracy: 0.5969\n",
            "Epoch 3/32\n",
            "32/32 [==============================] - 0s 1ms/step - loss: 0.6709 - accuracy: 0.6090\n",
            "Epoch 4/32\n",
            "32/32 [==============================] - 0s 1ms/step - loss: 0.6293 - accuracy: 0.6286\n",
            "Epoch 5/32\n",
            "32/32 [==============================] - 0s 2ms/step - loss: 0.6195 - accuracy: 0.6712\n",
            "Epoch 6/32\n",
            "32/32 [==============================] - 0s 1ms/step - loss: 0.6084 - accuracy: 0.6824\n",
            "Epoch 7/32\n",
            "32/32 [==============================] - 0s 1ms/step - loss: 0.5968 - accuracy: 0.6944\n",
            "Epoch 8/32\n",
            "32/32 [==============================] - 0s 1ms/step - loss: 0.5821 - accuracy: 0.6981\n",
            "Epoch 9/32\n",
            "32/32 [==============================] - 0s 1ms/step - loss: 0.5495 - accuracy: 0.7356\n",
            "Epoch 10/32\n",
            "32/32 [==============================] - 0s 2ms/step - loss: 0.5897 - accuracy: 0.7115\n",
            "Epoch 11/32\n",
            "32/32 [==============================] - 0s 1ms/step - loss: 0.5742 - accuracy: 0.7124\n",
            "Epoch 12/32\n",
            "32/32 [==============================] - 0s 1ms/step - loss: 0.5764 - accuracy: 0.6977\n",
            "Epoch 13/32\n",
            "32/32 [==============================] - 0s 1ms/step - loss: 0.5943 - accuracy: 0.6686\n",
            "Epoch 14/32\n",
            "32/32 [==============================] - 0s 1ms/step - loss: 0.5655 - accuracy: 0.7197\n",
            "Epoch 15/32\n",
            "32/32 [==============================] - 0s 1ms/step - loss: 0.5773 - accuracy: 0.7023\n",
            "Epoch 16/32\n",
            "32/32 [==============================] - 0s 1ms/step - loss: 0.5960 - accuracy: 0.6713\n",
            "Epoch 17/32\n",
            "32/32 [==============================] - 0s 1ms/step - loss: 0.5728 - accuracy: 0.7024\n",
            "Epoch 18/32\n",
            "32/32 [==============================] - 0s 1ms/step - loss: 0.5466 - accuracy: 0.7220\n",
            "Epoch 19/32\n",
            "32/32 [==============================] - 0s 2ms/step - loss: 0.5789 - accuracy: 0.6791\n",
            "Epoch 20/32\n",
            "32/32 [==============================] - 0s 1ms/step - loss: 0.5716 - accuracy: 0.6832\n",
            "Epoch 21/32\n",
            "32/32 [==============================] - 0s 1ms/step - loss: 0.5557 - accuracy: 0.7068\n",
            "Epoch 22/32\n",
            "32/32 [==============================] - 0s 1ms/step - loss: 0.5615 - accuracy: 0.6972\n",
            "Epoch 23/32\n",
            "32/32 [==============================] - 0s 1ms/step - loss: 0.5580 - accuracy: 0.7038\n",
            "Epoch 24/32\n",
            "32/32 [==============================] - 0s 2ms/step - loss: 0.5478 - accuracy: 0.7166\n",
            "Epoch 25/32\n",
            "32/32 [==============================] - 0s 2ms/step - loss: 0.5592 - accuracy: 0.6986\n",
            "Epoch 26/32\n",
            "32/32 [==============================] - 0s 1ms/step - loss: 0.5537 - accuracy: 0.6882\n",
            "Epoch 27/32\n",
            "32/32 [==============================] - 0s 1ms/step - loss: 0.5407 - accuracy: 0.7062\n",
            "Epoch 28/32\n",
            "32/32 [==============================] - 0s 1ms/step - loss: 0.5495 - accuracy: 0.7087\n",
            "Epoch 29/32\n",
            "32/32 [==============================] - 0s 1ms/step - loss: 0.5270 - accuracy: 0.7387\n",
            "Epoch 30/32\n",
            "32/32 [==============================] - 0s 1ms/step - loss: 0.5180 - accuracy: 0.7351\n",
            "Epoch 31/32\n",
            "32/32 [==============================] - 0s 1ms/step - loss: 0.5112 - accuracy: 0.7336\n",
            "Epoch 32/32\n",
            "32/32 [==============================] - 0s 1ms/step - loss: 0.5233 - accuracy: 0.7088\n"
          ],
          "name": "stdout"
        },
        {
          "output_type": "execute_result",
          "data": {
            "text/plain": [
              "<tensorflow.python.keras.callbacks.History at 0x7f6a693a10b8>"
            ]
          },
          "metadata": {
            "tags": []
          },
          "execution_count": 38
        }
      ]
    },
    {
      "cell_type": "code",
      "metadata": {
        "colab": {
          "base_uri": "https://localhost:8080/"
        },
        "id": "_7svNlsumKBA",
        "outputId": "6688a9e2-876c-4d22-804c-e1a872c1b6fe"
      },
      "source": [
        "model.evaluate(x_test,y_test,verbose=2)"
      ],
      "execution_count": null,
      "outputs": [
        {
          "output_type": "stream",
          "text": [
            "9/9 - 0s - loss: 0.5127 - accuracy: 0.7649\n"
          ],
          "name": "stdout"
        },
        {
          "output_type": "execute_result",
          "data": {
            "text/plain": [
              "[0.5126831531524658, 0.7649253606796265]"
            ]
          },
          "metadata": {
            "tags": []
          },
          "execution_count": 39
        }
      ]
    },
    {
      "cell_type": "code",
      "metadata": {
        "id": "s-fEH5FjmXlA"
      },
      "source": [
        "result = model.predict(x_test)"
      ],
      "execution_count": null,
      "outputs": []
    },
    {
      "cell_type": "code",
      "metadata": {
        "colab": {
          "base_uri": "https://localhost:8080/"
        },
        "id": "20MCBBZmmdHk",
        "outputId": "bc2314ee-c4cd-4ac8-b36f-aa5ae927e2c7"
      },
      "source": [
        "result.shape"
      ],
      "execution_count": null,
      "outputs": [
        {
          "output_type": "execute_result",
          "data": {
            "text/plain": [
              "(268, 1)"
            ]
          },
          "metadata": {
            "tags": []
          },
          "execution_count": 41
        }
      ]
    },
    {
      "cell_type": "code",
      "metadata": {
        "colab": {
          "base_uri": "https://localhost:8080/"
        },
        "id": "kgdmy9jQmigk",
        "outputId": "4af3b0aa-caeb-4c09-b8b0-2b33d7eed031"
      },
      "source": [
        "result"
      ],
      "execution_count": null,
      "outputs": [
        {
          "output_type": "execute_result",
          "data": {
            "text/plain": [
              "array([[0.6315222 ],\n",
              "       [0.12591928],\n",
              "       [0.46649748],\n",
              "       [0.48529682],\n",
              "       [0.39315885],\n",
              "       [0.61521506],\n",
              "       [0.6690056 ],\n",
              "       [0.11739239],\n",
              "       [0.593276  ],\n",
              "       [0.5421113 ],\n",
              "       [0.28180593],\n",
              "       [0.15007052],\n",
              "       [0.33386698],\n",
              "       [0.20686084],\n",
              "       [0.18067932],\n",
              "       [0.29567945],\n",
              "       [0.24273726],\n",
              "       [0.18297759],\n",
              "       [0.17501223],\n",
              "       [0.32049876],\n",
              "       [0.46619862],\n",
              "       [0.8601639 ],\n",
              "       [0.24043858],\n",
              "       [0.3185528 ],\n",
              "       [0.16160262],\n",
              "       [0.17515314],\n",
              "       [0.15007052],\n",
              "       [0.2926306 ],\n",
              "       [0.6490254 ],\n",
              "       [0.60637844],\n",
              "       [0.97014254],\n",
              "       [0.17145899],\n",
              "       [0.8304343 ],\n",
              "       [0.19783089],\n",
              "       [0.47968566],\n",
              "       [0.757063  ],\n",
              "       [0.25497976],\n",
              "       [0.35041398],\n",
              "       [0.70167214],\n",
              "       [0.15903154],\n",
              "       [0.8562807 ],\n",
              "       [0.15347764],\n",
              "       [0.18038273],\n",
              "       [0.17654496],\n",
              "       [0.6286749 ],\n",
              "       [0.14888492],\n",
              "       [0.22538844],\n",
              "       [0.51213664],\n",
              "       [0.83994746],\n",
              "       [0.58745915],\n",
              "       [0.44390205],\n",
              "       [0.10759473],\n",
              "       [0.5465731 ],\n",
              "       [0.10803226],\n",
              "       [0.97357213],\n",
              "       [0.08545628],\n",
              "       [0.14888492],\n",
              "       [0.50868136],\n",
              "       [0.5896561 ],\n",
              "       [0.6289191 ],\n",
              "       [0.19783089],\n",
              "       [0.142847  ],\n",
              "       [0.61205804],\n",
              "       [0.44204384],\n",
              "       [0.2565578 ],\n",
              "       [0.23663992],\n",
              "       [0.14177072],\n",
              "       [0.11446151],\n",
              "       [0.14306337],\n",
              "       [0.7437552 ],\n",
              "       [0.17515314],\n",
              "       [0.62743604],\n",
              "       [0.4917858 ],\n",
              "       [0.15007052],\n",
              "       [0.16083384],\n",
              "       [0.7045636 ],\n",
              "       [0.5428108 ],\n",
              "       [0.19401616],\n",
              "       [0.17195058],\n",
              "       [0.16346973],\n",
              "       [0.5211714 ],\n",
              "       [0.58732486],\n",
              "       [0.41059038],\n",
              "       [0.15865067],\n",
              "       [0.22649407],\n",
              "       [0.25616142],\n",
              "       [0.11810192],\n",
              "       [0.11429304],\n",
              "       [0.14591089],\n",
              "       [0.4452088 ],\n",
              "       [0.15007052],\n",
              "       [0.6751864 ],\n",
              "       [0.12388724],\n",
              "       [0.2018997 ],\n",
              "       [0.11554652],\n",
              "       [0.58088243],\n",
              "       [0.15007052],\n",
              "       [0.13332632],\n",
              "       [0.61029106],\n",
              "       [0.18343571],\n",
              "       [0.44390205],\n",
              "       [0.6673204 ],\n",
              "       [0.14888492],\n",
              "       [0.18009257],\n",
              "       [0.5827117 ],\n",
              "       [0.1126    ],\n",
              "       [0.4399866 ],\n",
              "       [0.11412364],\n",
              "       [0.14306337],\n",
              "       [0.47822833],\n",
              "       [0.15485695],\n",
              "       [0.14888492],\n",
              "       [0.6003439 ],\n",
              "       [0.091674  ],\n",
              "       [0.14597344],\n",
              "       [0.3470789 ],\n",
              "       [0.14926392],\n",
              "       [0.76864374],\n",
              "       [0.7651023 ],\n",
              "       [0.5214937 ],\n",
              "       [0.6786083 ],\n",
              "       [0.12645173],\n",
              "       [0.74596345],\n",
              "       [0.18714347],\n",
              "       [0.3754325 ],\n",
              "       [0.43942785],\n",
              "       [0.59060204],\n",
              "       [0.44037238],\n",
              "       [0.11601251],\n",
              "       [0.20068923],\n",
              "       [0.41191745],\n",
              "       [0.14446965],\n",
              "       [0.3515444 ],\n",
              "       [0.14698702],\n",
              "       [0.33816996],\n",
              "       [0.49830347],\n",
              "       [0.80601007],\n",
              "       [0.5781073 ],\n",
              "       [0.43168435],\n",
              "       [0.48955023],\n",
              "       [0.6436011 ],\n",
              "       [0.16633102],\n",
              "       [0.3627204 ],\n",
              "       [0.43942785],\n",
              "       [0.17220512],\n",
              "       [0.1440031 ],\n",
              "       [0.7285216 ],\n",
              "       [0.15007052],\n",
              "       [0.6616545 ],\n",
              "       [0.17853567],\n",
              "       [0.49742678],\n",
              "       [0.1402871 ],\n",
              "       [0.50859946],\n",
              "       [0.5529712 ],\n",
              "       [0.51061213],\n",
              "       [0.75821507],\n",
              "       [0.6054408 ],\n",
              "       [0.6965444 ],\n",
              "       [0.56102484],\n",
              "       [0.6422869 ],\n",
              "       [0.1639167 ],\n",
              "       [0.6703994 ],\n",
              "       [0.38809323],\n",
              "       [0.643001  ],\n",
              "       [0.17066547],\n",
              "       [0.15246588],\n",
              "       [0.12134936],\n",
              "       [0.43762898],\n",
              "       [0.74738663],\n",
              "       [0.14384812],\n",
              "       [0.5326581 ],\n",
              "       [0.18694314],\n",
              "       [0.73360217],\n",
              "       [0.72056687],\n",
              "       [0.34765285],\n",
              "       [0.703409  ],\n",
              "       [0.3881152 ],\n",
              "       [0.1177167 ],\n",
              "       [0.85685706],\n",
              "       [0.2013529 ],\n",
              "       [0.22699428],\n",
              "       [0.48562354],\n",
              "       [0.09967005],\n",
              "       [0.56216747],\n",
              "       [0.51127017],\n",
              "       [0.15427104],\n",
              "       [0.6699396 ],\n",
              "       [0.605017  ],\n",
              "       [0.15623447],\n",
              "       [0.08946949],\n",
              "       [0.14796144],\n",
              "       [0.30634636],\n",
              "       [0.7110371 ],\n",
              "       [0.5958435 ],\n",
              "       [0.5011175 ],\n",
              "       [0.15007052],\n",
              "       [0.36736843],\n",
              "       [0.1656752 ],\n",
              "       [0.21561697],\n",
              "       [0.22842672],\n",
              "       [0.59588784],\n",
              "       [0.17069435],\n",
              "       [0.4407995 ],\n",
              "       [0.10703629],\n",
              "       [0.6540873 ],\n",
              "       [0.15007052],\n",
              "       [0.39887637],\n",
              "       [0.18009257],\n",
              "       [0.18726003],\n",
              "       [0.61057574],\n",
              "       [0.530704  ],\n",
              "       [0.75548714],\n",
              "       [0.12245476],\n",
              "       [0.15055332],\n",
              "       [0.90051275],\n",
              "       [0.5896254 ],\n",
              "       [0.17296916],\n",
              "       [0.19428778],\n",
              "       [0.15264127],\n",
              "       [0.2196655 ],\n",
              "       [0.59874713],\n",
              "       [0.30283427],\n",
              "       [0.61879283],\n",
              "       [0.740848  ],\n",
              "       [0.14888492],\n",
              "       [0.17313114],\n",
              "       [0.15525314],\n",
              "       [0.20644736],\n",
              "       [0.43590397],\n",
              "       [0.5740998 ],\n",
              "       [0.23513359],\n",
              "       [0.55516446],\n",
              "       [0.6603324 ],\n",
              "       [0.19673899],\n",
              "       [0.12945336],\n",
              "       [0.16766647],\n",
              "       [0.76366484],\n",
              "       [0.72642636],\n",
              "       [0.14384812],\n",
              "       [0.16074571],\n",
              "       [0.14568835],\n",
              "       [0.14991072],\n",
              "       [0.36178342],\n",
              "       [0.17313355],\n",
              "       [0.14777097],\n",
              "       [0.13637722],\n",
              "       [0.63865834],\n",
              "       [0.60612935],\n",
              "       [0.4857778 ],\n",
              "       [0.22652447],\n",
              "       [0.46550864],\n",
              "       [0.78368545],\n",
              "       [0.4413536 ],\n",
              "       [0.51123554],\n",
              "       [0.6099661 ],\n",
              "       [0.5864983 ],\n",
              "       [0.1476126 ],\n",
              "       [0.56808305],\n",
              "       [0.51103   ],\n",
              "       [0.1148842 ],\n",
              "       [0.55578536],\n",
              "       [0.79493177],\n",
              "       [0.703409  ],\n",
              "       [0.43942785],\n",
              "       [0.11910504],\n",
              "       [0.367913  ],\n",
              "       [0.10820457],\n",
              "       [0.2962435 ]], dtype=float32)"
            ]
          },
          "metadata": {
            "tags": []
          },
          "execution_count": 43
        }
      ]
    },
    {
      "cell_type": "markdown",
      "metadata": {
        "id": "EiQXeqVhnxrb"
      },
      "source": [
        "To round the above result array we use round() and perform the following steps "
      ]
    },
    {
      "cell_type": "code",
      "metadata": {
        "colab": {
          "base_uri": "https://localhost:8080/"
        },
        "id": "tH5yDlFzm6oK",
        "outputId": "232cc542-2c89-49ed-c5df-aa8c86f4ee4d"
      },
      "source": [
        "result[0:10]>0.5"
      ],
      "execution_count": null,
      "outputs": [
        {
          "output_type": "execute_result",
          "data": {
            "text/plain": [
              "array([[ True],\n",
              "       [False],\n",
              "       [False],\n",
              "       [False],\n",
              "       [False],\n",
              "       [ True],\n",
              "       [ True],\n",
              "       [False],\n",
              "       [ True],\n",
              "       [ True]])"
            ]
          },
          "metadata": {
            "tags": []
          },
          "execution_count": 44
        }
      ]
    },
    {
      "cell_type": "code",
      "metadata": {
        "id": "-9p0hlRXnInh"
      },
      "source": [
        "round_result= result.round().astype(int)"
      ],
      "execution_count": null,
      "outputs": []
    },
    {
      "cell_type": "code",
      "metadata": {
        "colab": {
          "base_uri": "https://localhost:8080/"
        },
        "id": "HZJwuziwntYJ",
        "outputId": "73c57d00-7f9e-4e80-a027-68281fd7b52d"
      },
      "source": [
        "round_result[:10] #as a column"
      ],
      "execution_count": null,
      "outputs": [
        {
          "output_type": "execute_result",
          "data": {
            "text/plain": [
              "array([[1],\n",
              "       [0],\n",
              "       [0],\n",
              "       [0],\n",
              "       [0],\n",
              "       [1],\n",
              "       [1],\n",
              "       [0],\n",
              "       [1],\n",
              "       [1]])"
            ]
          },
          "metadata": {
            "tags": []
          },
          "execution_count": 46
        }
      ]
    },
    {
      "cell_type": "code",
      "metadata": {
        "colab": {
          "base_uri": "https://localhost:8080/"
        },
        "id": "cZri6KPFo2oT",
        "outputId": "fadbe27a-2d18-4733-9461-ec278d26fd90"
      },
      "source": [
        "round_result.ndim"
      ],
      "execution_count": null,
      "outputs": [
        {
          "output_type": "execute_result",
          "data": {
            "text/plain": [
              "2"
            ]
          },
          "metadata": {
            "tags": []
          },
          "execution_count": 52
        }
      ]
    },
    {
      "cell_type": "code",
      "metadata": {
        "id": "NasOPoSao9IW"
      },
      "source": [
        "round_result = round_result.T #as a row"
      ],
      "execution_count": null,
      "outputs": []
    },
    {
      "cell_type": "code",
      "metadata": {
        "colab": {
          "base_uri": "https://localhost:8080/"
        },
        "id": "4XGG9BN2pCn2",
        "outputId": "b1e8a2a8-a674-41b7-ee0e-97462969dd84"
      },
      "source": [
        "round_result[0]"
      ],
      "execution_count": null,
      "outputs": [
        {
          "output_type": "execute_result",
          "data": {
            "text/plain": [
              "array([1, 0, 0, 0, 0, 1, 1, 0, 1, 1, 0, 0, 0, 0, 0, 0, 0, 0, 0, 0, 0, 1,\n",
              "       0, 0, 0, 0, 0, 0, 1, 1, 1, 0, 1, 0, 0, 1, 0, 0, 1, 0, 1, 0, 0, 0,\n",
              "       1, 0, 0, 1, 1, 1, 0, 0, 1, 0, 1, 0, 0, 1, 1, 1, 0, 0, 1, 0, 0, 0,\n",
              "       0, 0, 0, 1, 0, 1, 0, 0, 0, 1, 1, 0, 0, 0, 1, 1, 0, 0, 0, 0, 0, 0,\n",
              "       0, 0, 0, 1, 0, 0, 0, 1, 0, 0, 1, 0, 0, 1, 0, 0, 1, 0, 0, 0, 0, 0,\n",
              "       0, 0, 1, 0, 0, 0, 0, 1, 1, 1, 1, 0, 1, 0, 0, 0, 1, 0, 0, 0, 0, 0,\n",
              "       0, 0, 0, 0, 1, 1, 0, 0, 1, 0, 0, 0, 0, 0, 1, 0, 1, 0, 0, 0, 1, 1,\n",
              "       1, 1, 1, 1, 1, 1, 0, 1, 0, 1, 0, 0, 0, 0, 1, 0, 1, 0, 1, 1, 0, 1,\n",
              "       0, 0, 1, 0, 0, 0, 0, 1, 1, 0, 1, 1, 0, 0, 0, 0, 1, 1, 1, 0, 0, 0,\n",
              "       0, 0, 1, 0, 0, 0, 1, 0, 0, 0, 0, 1, 1, 1, 0, 0, 1, 1, 0, 0, 0, 0,\n",
              "       1, 0, 1, 1, 0, 0, 0, 0, 0, 1, 0, 1, 1, 0, 0, 0, 1, 1, 0, 0, 0, 0,\n",
              "       0, 0, 0, 0, 1, 1, 0, 0, 0, 1, 0, 1, 1, 1, 0, 1, 1, 0, 1, 1, 1, 0,\n",
              "       0, 0, 0, 0])"
            ]
          },
          "metadata": {
            "tags": []
          },
          "execution_count": 54
        }
      ]
    },
    {
      "cell_type": "code",
      "metadata": {
        "id": "Sro_eEcBodmF"
      },
      "source": [
        "result1D = round_result[0]"
      ],
      "execution_count": null,
      "outputs": []
    },
    {
      "cell_type": "code",
      "metadata": {
        "colab": {
          "base_uri": "https://localhost:8080/"
        },
        "id": "f6qZEBLRnv4T",
        "outputId": "cbb1367b-3ab2-4471-a8bb-533ad6bfd1e3"
      },
      "source": [
        "round_result[0].ndim"
      ],
      "execution_count": null,
      "outputs": [
        {
          "output_type": "execute_result",
          "data": {
            "text/plain": [
              "1"
            ]
          },
          "metadata": {
            "tags": []
          },
          "execution_count": 56
        }
      ]
    },
    {
      "cell_type": "code",
      "metadata": {
        "id": "86QcvovfoEZS"
      },
      "source": [
        "from sklearn.metrics import accuracy_score"
      ],
      "execution_count": null,
      "outputs": []
    },
    {
      "cell_type": "code",
      "metadata": {
        "colab": {
          "base_uri": "https://localhost:8080/"
        },
        "id": "EOg0F-rIoWp8",
        "outputId": "6d386398-b3f8-4f19-834e-1b70e39f45a2"
      },
      "source": [
        "accuracy_score(y_test,result1D)"
      ],
      "execution_count": null,
      "outputs": [
        {
          "output_type": "execute_result",
          "data": {
            "text/plain": [
              "0.7649253731343284"
            ]
          },
          "metadata": {
            "tags": []
          },
          "execution_count": 58
        }
      ]
    },
    {
      "cell_type": "code",
      "metadata": {
        "id": "_TZkc3BKooZB"
      },
      "source": [
        ""
      ],
      "execution_count": null,
      "outputs": []
    }
  ]
}