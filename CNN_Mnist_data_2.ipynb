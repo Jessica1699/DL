{
  "nbformat": 4,
  "nbformat_minor": 0,
  "metadata": {
    "colab": {
      "name": "CNN Mnist data part 2.ipynb",
      "provenance": [],
      "collapsed_sections": []
    },
    "kernelspec": {
      "name": "python3",
      "display_name": "Python 3"
    }
  },
  "cells": [
    {
      "cell_type": "code",
      "metadata": {
        "id": "2VdAMpD_j6QG"
      },
      "source": [
        "import tensorflow as tf\r\n",
        "import numpy as np\r\n",
        "import matplotlib.pyplot as plt"
      ],
      "execution_count": null,
      "outputs": []
    },
    {
      "cell_type": "code",
      "metadata": {
        "id": "D1ZpgZ9OkJxD"
      },
      "source": [
        "#import dataset\r\n",
        "fashion_mnist = tf.keras.datasets.fashion_mnist"
      ],
      "execution_count": null,
      "outputs": []
    },
    {
      "cell_type": "markdown",
      "metadata": {
        "id": "qpC4fMabok6q"
      },
      "source": [
        "Label description of 10 categories\r\n",
        "\r\n",
        "*   0 T-shirt/top\r\n",
        "1 Trouser\r\n",
        "2 Pullover\r\n",
        "3 Dress\r\n",
        "4 Coat\r\n",
        "5 Sandal\r\n",
        "6 Shirt\r\n",
        "7 Sneaker\r\n",
        "8 Bag\r\n",
        "9 Ankle boot\r\n",
        "\r\n"
      ]
    },
    {
      "cell_type": "code",
      "metadata": {
        "colab": {
          "base_uri": "https://localhost:8080/"
        },
        "id": "QMOhv90VkkQf",
        "outputId": "c4df9a44-5bfa-4931-e69b-6eb534d495b7"
      },
      "source": [
        "fashion_mnist"
      ],
      "execution_count": null,
      "outputs": [
        {
          "output_type": "execute_result",
          "data": {
            "text/plain": [
              "<module 'tensorflow.keras.datasets.fashion_mnist' from '/usr/local/lib/python3.6/dist-packages/tensorflow/keras/datasets/fashion_mnist/__init__.py'>"
            ]
          },
          "metadata": {
            "tags": []
          },
          "execution_count": 4
        }
      ]
    },
    {
      "cell_type": "code",
      "metadata": {
        "colab": {
          "base_uri": "https://localhost:8080/"
        },
        "id": "E6uNx9gkkoc8",
        "outputId": "0a216607-957b-4b15-9b27-b63e977b43a5"
      },
      "source": [
        "(x_train,y_train), (x_test,y_test) = fashion_mnist.load_data()"
      ],
      "execution_count": null,
      "outputs": [
        {
          "output_type": "stream",
          "text": [
            "Downloading data from https://storage.googleapis.com/tensorflow/tf-keras-datasets/train-labels-idx1-ubyte.gz\n",
            "32768/29515 [=================================] - 0s 0us/step\n",
            "Downloading data from https://storage.googleapis.com/tensorflow/tf-keras-datasets/train-images-idx3-ubyte.gz\n",
            "26427392/26421880 [==============================] - 0s 0us/step\n",
            "Downloading data from https://storage.googleapis.com/tensorflow/tf-keras-datasets/t10k-labels-idx1-ubyte.gz\n",
            "8192/5148 [===============================================] - 0s 0us/step\n",
            "Downloading data from https://storage.googleapis.com/tensorflow/tf-keras-datasets/t10k-images-idx3-ubyte.gz\n",
            "4423680/4422102 [==============================] - 0s 0us/step\n"
          ],
          "name": "stdout"
        }
      ]
    },
    {
      "cell_type": "code",
      "metadata": {
        "colab": {
          "base_uri": "https://localhost:8080/"
        },
        "id": "xk4QFipWpS0N",
        "outputId": "17de0d13-5ffb-4287-c36c-48bfd95f98ae"
      },
      "source": [
        "x_train[0][10]  #images"
      ],
      "execution_count": null,
      "outputs": [
        {
          "output_type": "execute_result",
          "data": {
            "text/plain": [
              "array([  0,   0,   0,   0,   0,   0,   0,   0,   0,   0,   0,   0,   0,\n",
              "       193, 228, 218, 213, 198, 180, 212, 210, 211, 213, 223, 220, 243,\n",
              "       202,   0], dtype=uint8)"
            ]
          },
          "metadata": {
            "tags": []
          },
          "execution_count": 6
        }
      ]
    },
    {
      "cell_type": "code",
      "metadata": {
        "colab": {
          "base_uri": "https://localhost:8080/"
        },
        "id": "91wGIW92pV7s",
        "outputId": "8fadd416-3193-40d3-b97b-231baf8d063b"
      },
      "source": [
        "y_train #labels"
      ],
      "execution_count": null,
      "outputs": [
        {
          "output_type": "execute_result",
          "data": {
            "text/plain": [
              "array([9, 0, 0, ..., 3, 0, 5], dtype=uint8)"
            ]
          },
          "metadata": {
            "tags": []
          },
          "execution_count": 7
        }
      ]
    },
    {
      "cell_type": "code",
      "metadata": {
        "colab": {
          "base_uri": "https://localhost:8080/"
        },
        "id": "jx-82WcAqKEH",
        "outputId": "5ee8abef-8747-4bb6-cbc0-855a8a8bb914"
      },
      "source": [
        "len(y_test)"
      ],
      "execution_count": null,
      "outputs": [
        {
          "output_type": "execute_result",
          "data": {
            "text/plain": [
              "10000"
            ]
          },
          "metadata": {
            "tags": []
          },
          "execution_count": 8
        }
      ]
    },
    {
      "cell_type": "code",
      "metadata": {
        "colab": {
          "base_uri": "https://localhost:8080/"
        },
        "id": "lvbvLsrtqOMz",
        "outputId": "f5b3117d-a4e8-4bc8-e5a1-d48d61ba588a"
      },
      "source": [
        "y_train.shape"
      ],
      "execution_count": null,
      "outputs": [
        {
          "output_type": "execute_result",
          "data": {
            "text/plain": [
              "(60000,)"
            ]
          },
          "metadata": {
            "tags": []
          },
          "execution_count": 9
        }
      ]
    },
    {
      "cell_type": "code",
      "metadata": {
        "colab": {
          "base_uri": "https://localhost:8080/"
        },
        "id": "1OQtJlnKqTvX",
        "outputId": "7f8519d8-0efc-416d-9d92-459e1d9a16ef"
      },
      "source": [
        "x_train.shape"
      ],
      "execution_count": null,
      "outputs": [
        {
          "output_type": "execute_result",
          "data": {
            "text/plain": [
              "(60000, 28, 28)"
            ]
          },
          "metadata": {
            "tags": []
          },
          "execution_count": 10
        }
      ]
    },
    {
      "cell_type": "code",
      "metadata": {
        "colab": {
          "base_uri": "https://localhost:8080/",
          "height": 265
        },
        "id": "X8LZ23FZqbKK",
        "outputId": "b8bf894e-1199-4ef4-fb18-f633e713a20d"
      },
      "source": [
        "plt.imshow(x_train[0])\r\n",
        "plt.grid(True)\r\n",
        "# plt.show()"
      ],
      "execution_count": null,
      "outputs": [
        {
          "output_type": "display_data",
          "data": {
            "image/png": "[encoded data removed]",
            "text/plain": [
              "<Figure size 432x288 with 1 Axes>"
            ]
          },
          "metadata": {
            "tags": [],
            "needs_background": "light"
          }
        }
      ]
    },
    {
      "cell_type": "code",
      "metadata": {
        "colab": {
          "base_uri": "https://localhost:8080/",
          "height": 580
        },
        "id": "Li0CCADUqkDG",
        "outputId": "5fff653c-4e66-4d58-b34e-a364094fa506"
      },
      "source": [
        "plt.figure(figsize = (10,10))\r\n",
        "plt.imshow(x_train[0])\r\n",
        "plt.colorbar()\r\n",
        "plt.grid(False)\r\n",
        "# plt.show()"
      ],
      "execution_count": null,
      "outputs": [
        {
          "output_type": "display_data",
          "data": {
            "image/png": "[encoded data removed]",
            "text/plain": [
              "<Figure size 720x720 with 2 Axes>"
            ]
          },
          "metadata": {
            "tags": [],
            "needs_background": "light"
          }
        }
      ]
    },
    {
      "cell_type": "code",
      "metadata": {
        "colab": {
          "base_uri": "https://localhost:8080/",
          "height": 580
        },
        "id": "7YrXEpx_rD5s",
        "outputId": "045a70b8-351a-434a-cba1-f32186b86001"
      },
      "source": [
        "plt.figure(figsize = (10,10))\r\n",
        "plt.imshow(x_train[3])\r\n",
        "plt.colorbar()\r\n",
        "plt.grid(False)\r\n",
        "# plt.show()"
      ],
      "execution_count": null,
      "outputs": [
        {
          "output_type": "display_data",
          "data": {
            "image/png": "[encoded data removed]",
            "text/plain": [
              "<Figure size 720x720 with 2 Axes>"
            ]
          },
          "metadata": {
            "tags": [],
            "needs_background": "light"
          }
        }
      ]
    },
    {
      "cell_type": "markdown",
      "metadata": {
        "id": "h3uPA1GQrk1B"
      },
      "source": [
        "range 0 - 255"
      ]
    },
    {
      "cell_type": "code",
      "metadata": {
        "colab": {
          "base_uri": "https://localhost:8080/"
        },
        "id": "tChZanz_rZWy",
        "outputId": "d5274ede-1a54-4eb7-9894-2d4a5c03bcf8"
      },
      "source": [
        "x_train.max()"
      ],
      "execution_count": null,
      "outputs": [
        {
          "output_type": "execute_result",
          "data": {
            "text/plain": [
              "255"
            ]
          },
          "metadata": {
            "tags": []
          },
          "execution_count": 14
        }
      ]
    },
    {
      "cell_type": "code",
      "metadata": {
        "colab": {
          "base_uri": "https://localhost:8080/"
        },
        "id": "gnR4D06Lrr3K",
        "outputId": "c7f9fea1-1bea-4699-b4b5-a5ea428bee3d"
      },
      "source": [
        "x_test.max()"
      ],
      "execution_count": null,
      "outputs": [
        {
          "output_type": "execute_result",
          "data": {
            "text/plain": [
              "255"
            ]
          },
          "metadata": {
            "tags": []
          },
          "execution_count": 15
        }
      ]
    },
    {
      "cell_type": "markdown",
      "metadata": {
        "id": "D9IazWY6rwmQ"
      },
      "source": [
        "Normalizing"
      ]
    },
    {
      "cell_type": "code",
      "metadata": {
        "id": "szKZQfB7ruSf"
      },
      "source": [
        "x_train = x_train/255\r\n",
        "x_test = x_test/255"
      ],
      "execution_count": null,
      "outputs": []
    },
    {
      "cell_type": "code",
      "metadata": {
        "colab": {
          "base_uri": "https://localhost:8080/"
        },
        "id": "1EC_pqHir6Cs",
        "outputId": "e860fbeb-3ff0-41af-9ec5-97cb08a32647"
      },
      "source": [
        "print(x_train.max())\r\n",
        "print(x_test.max())"
      ],
      "execution_count": null,
      "outputs": [
        {
          "output_type": "stream",
          "text": [
            "1.0\n",
            "1.0\n"
          ],
          "name": "stdout"
        }
      ]
    },
    {
      "cell_type": "code",
      "metadata": {
        "id": "VBb3TZY8r_YQ"
      },
      "source": [
        "class_names = ['T-shirt/top','Trouser','Pullover','Dress','Coat','Sandal','Shirt','Sneaker','Bag','Ankle boot']"
      ],
      "execution_count": null,
      "outputs": []
    },
    {
      "cell_type": "code",
      "metadata": {
        "colab": {
          "base_uri": "https://localhost:8080/",
          "height": 608
        },
        "id": "8Ppgahyhsca1",
        "outputId": "980b2ab2-4550-461d-83e7-fd7bf071dc38"
      },
      "source": [
        "plt.figure(figsize=(10,10))\r\n",
        "for i in range(25):\r\n",
        "  plt.subplot(5,5,i+1) #creating a 5 * 5 matrix like subplot\r\n",
        "  plt.xticks()\r\n",
        "  plt.yticks()\r\n",
        "  plt.imshow(x_train[i], cmap=plt.cm.binary) #convert to binary\r\n",
        "  plt.xlabel(class_names[y_train[i]]) #print labels below images"
      ],
      "execution_count": null,
      "outputs": [
        {
          "output_type": "display_data",
          "data": {
            "image/png": "[encoded data removed]",
            "text/plain": [
              "<Figure size 720x720 with 25 Axes>"
            ]
          },
          "metadata": {
            "tags": [],
            "needs_background": "light"
          }
        }
      ]
    },
    {
      "cell_type": "code",
      "metadata": {
        "id": "wBGQEwLYtTjw"
      },
      "source": [
        "model = tf.keras.Sequential(\r\n",
        "    [\r\n",
        "     tf.keras.layers.Flatten(input_shape = (28,28)), # (28,28) is the image shape obtained by x_train.shape/x_test.shape\r\n",
        "     tf.keras.layers.Dense(128,activation='relu'), # 128 is random no.\r\n",
        "     tf.keras.layers.Dense(10)      # 10 beacuse our output is 10 digits (0-9)\r\n",
        "    ]\r\n",
        ")"
      ],
      "execution_count": null,
      "outputs": []
    },
    {
      "cell_type": "code",
      "metadata": {
        "colab": {
          "base_uri": "https://localhost:8080/"
        },
        "id": "LoHMcXwDtzAY",
        "outputId": "6da814fa-71f0-47c4-876a-83fd2afcedf6"
      },
      "source": [
        "model.layers"
      ],
      "execution_count": null,
      "outputs": [
        {
          "output_type": "execute_result",
          "data": {
            "text/plain": [
              "[<tensorflow.python.keras.layers.core.Flatten at 0x7f06eb47b048>,\n",
              " <tensorflow.python.keras.layers.core.Dense at 0x7f06ece2d898>,\n",
              " <tensorflow.python.keras.layers.core.Dense at 0x7f06ebba2fd0>]"
            ]
          },
          "metadata": {
            "tags": []
          },
          "execution_count": 21
        }
      ]
    },
    {
      "cell_type": "code",
      "metadata": {
        "colab": {
          "base_uri": "https://localhost:8080/"
        },
        "id": "9AVCD1kvt-ZG",
        "outputId": "45f78acd-198b-4cd3-bd31-1a925d5c370c"
      },
      "source": [
        "model.weights"
      ],
      "execution_count": null,
      "outputs": [
        {
          "output_type": "execute_result",
          "data": {
            "text/plain": [
              "[<tf.Variable 'dense/kernel:0' shape=(784, 128) dtype=float32, numpy=\n",
              " array([[-0.01762325, -0.04818081,  0.03153843, ..., -0.01480994,\n",
              "          0.01764061,  0.05159163],\n",
              "        [ 0.00437608,  0.05624358, -0.0273138 , ..., -0.02782731,\n",
              "         -0.0330618 , -0.07621843],\n",
              "        [ 0.00971015,  0.02252982,  0.02190308, ...,  0.04183044,\n",
              "         -0.0257048 , -0.06668915],\n",
              "        ...,\n",
              "        [-0.07940685, -0.03552057, -0.01782827, ...,  0.06070695,\n",
              "         -0.02189496,  0.04306716],\n",
              "        [-0.06924561, -0.03913958,  0.07884534, ...,  0.08047957,\n",
              "         -0.02151995,  0.03940736],\n",
              "        [ 0.03786474,  0.06030213, -0.08012722, ..., -0.00559361,\n",
              "          0.03987499, -0.0352624 ]], dtype=float32)>,\n",
              " <tf.Variable 'dense/bias:0' shape=(128,) dtype=float32, numpy=\n",
              " array([0., 0., 0., 0., 0., 0., 0., 0., 0., 0., 0., 0., 0., 0., 0., 0., 0.,\n",
              "        0., 0., 0., 0., 0., 0., 0., 0., 0., 0., 0., 0., 0., 0., 0., 0., 0.,\n",
              "        0., 0., 0., 0., 0., 0., 0., 0., 0., 0., 0., 0., 0., 0., 0., 0., 0.,\n",
              "        0., 0., 0., 0., 0., 0., 0., 0., 0., 0., 0., 0., 0., 0., 0., 0., 0.,\n",
              "        0., 0., 0., 0., 0., 0., 0., 0., 0., 0., 0., 0., 0., 0., 0., 0., 0.,\n",
              "        0., 0., 0., 0., 0., 0., 0., 0., 0., 0., 0., 0., 0., 0., 0., 0., 0.,\n",
              "        0., 0., 0., 0., 0., 0., 0., 0., 0., 0., 0., 0., 0., 0., 0., 0., 0.,\n",
              "        0., 0., 0., 0., 0., 0., 0., 0., 0.], dtype=float32)>,\n",
              " <tf.Variable 'dense_1/kernel:0' shape=(128, 10) dtype=float32, numpy=\n",
              " array([[-0.20815289,  0.00945759,  0.00482924, ...,  0.13095574,\n",
              "         -0.01020354,  0.14602955],\n",
              "        [-0.09076381,  0.03615882,  0.12534352, ..., -0.0844451 ,\n",
              "          0.08840604, -0.08119626],\n",
              "        [-0.11114897,  0.11674325, -0.1884509 , ...,  0.15723969,\n",
              "          0.13641115, -0.03080718],\n",
              "        ...,\n",
              "        [ 0.04334165, -0.09855524,  0.07143344, ..., -0.03602092,\n",
              "         -0.08898247, -0.1999563 ],\n",
              "        [ 0.12155424, -0.11106346,  0.00550883, ...,  0.06349231,\n",
              "          0.00721297,  0.03003588],\n",
              "        [-0.19645073, -0.0089588 , -0.04447468, ...,  0.12694962,\n",
              "         -0.0439063 ,  0.050148  ]], dtype=float32)>,\n",
              " <tf.Variable 'dense_1/bias:0' shape=(10,) dtype=float32, numpy=array([0., 0., 0., 0., 0., 0., 0., 0., 0., 0.], dtype=float32)>]"
            ]
          },
          "metadata": {
            "tags": []
          },
          "execution_count": 22
        }
      ]
    },
    {
      "cell_type": "code",
      "metadata": {
        "colab": {
          "base_uri": "https://localhost:8080/"
        },
        "id": "eL2WQQvfuA1v",
        "outputId": "518c8d99-efe0-4e38-f55f-8c1ecd479b5d"
      },
      "source": [
        "model.input_shape"
      ],
      "execution_count": null,
      "outputs": [
        {
          "output_type": "execute_result",
          "data": {
            "text/plain": [
              "(None, 28, 28)"
            ]
          },
          "metadata": {
            "tags": []
          },
          "execution_count": 23
        }
      ]
    },
    {
      "cell_type": "code",
      "metadata": {
        "colab": {
          "base_uri": "https://localhost:8080/"
        },
        "id": "9a9ZjkJkuHHO",
        "outputId": "bb29583e-1bab-4d54-94e4-3e806ebce78a"
      },
      "source": [
        "model.output_shape"
      ],
      "execution_count": null,
      "outputs": [
        {
          "output_type": "execute_result",
          "data": {
            "text/plain": [
              "(None, 10)"
            ]
          },
          "metadata": {
            "tags": []
          },
          "execution_count": 24
        }
      ]
    },
    {
      "cell_type": "code",
      "metadata": {
        "id": "-aeNVi0uuJ0F"
      },
      "source": [
        "model.compile(\r\n",
        "    optimizer = \"adam\",\r\n",
        "    loss = tf.keras.losses.SparseCategoricalCrossentropy(from_logits=True),\r\n",
        "    metrics = ['accuracy']\r\n",
        ")"
      ],
      "execution_count": null,
      "outputs": []
    },
    {
      "cell_type": "code",
      "metadata": {
        "colab": {
          "base_uri": "https://localhost:8080/"
        },
        "id": "gYkO-F6Rudau",
        "outputId": "e6f45db6-298f-4347-996f-e8dd13f649da"
      },
      "source": [
        "model.fit(x_train,y_train,epochs = 20)"
      ],
      "execution_count": null,
      "outputs": [
        {
          "output_type": "stream",
          "text": [
            "Epoch 1/20\n",
            "1875/1875 [==============================] - 4s 2ms/step - loss: 0.6306 - accuracy: 0.7829\n",
            "Epoch 2/20\n",
            "1875/1875 [==============================] - 3s 2ms/step - loss: 0.3778 - accuracy: 0.8664\n",
            "Epoch 3/20\n",
            "1875/1875 [==============================] - 4s 2ms/step - loss: 0.3352 - accuracy: 0.8791\n",
            "Epoch 4/20\n",
            "1875/1875 [==============================] - 4s 2ms/step - loss: 0.3111 - accuracy: 0.8852\n",
            "Epoch 5/20\n",
            "1875/1875 [==============================] - 4s 2ms/step - loss: 0.2926 - accuracy: 0.8924\n",
            "Epoch 6/20\n",
            "1875/1875 [==============================] - 4s 2ms/step - loss: 0.2821 - accuracy: 0.8970\n",
            "Epoch 7/20\n",
            "1875/1875 [==============================] - 4s 2ms/step - loss: 0.2621 - accuracy: 0.9024\n",
            "Epoch 8/20\n",
            "1875/1875 [==============================] - 4s 2ms/step - loss: 0.2562 - accuracy: 0.9046\n",
            "Epoch 9/20\n",
            "1875/1875 [==============================] - 4s 2ms/step - loss: 0.2485 - accuracy: 0.9090\n",
            "Epoch 10/20\n",
            "1875/1875 [==============================] - 4s 2ms/step - loss: 0.2343 - accuracy: 0.9125\n",
            "Epoch 11/20\n",
            "1875/1875 [==============================] - 4s 2ms/step - loss: 0.2282 - accuracy: 0.9153\n",
            "Epoch 12/20\n",
            "1875/1875 [==============================] - 4s 2ms/step - loss: 0.2254 - accuracy: 0.9160\n",
            "Epoch 13/20\n",
            "1875/1875 [==============================] - 4s 2ms/step - loss: 0.2148 - accuracy: 0.9196\n",
            "Epoch 14/20\n",
            "1875/1875 [==============================] - 4s 2ms/step - loss: 0.2061 - accuracy: 0.9213\n",
            "Epoch 15/20\n",
            "1875/1875 [==============================] - 4s 2ms/step - loss: 0.2054 - accuracy: 0.9221\n",
            "Epoch 16/20\n",
            "1875/1875 [==============================] - 4s 2ms/step - loss: 0.1938 - accuracy: 0.9277\n",
            "Epoch 17/20\n",
            "1875/1875 [==============================] - 4s 2ms/step - loss: 0.1927 - accuracy: 0.9279\n",
            "Epoch 18/20\n",
            "1875/1875 [==============================] - 4s 2ms/step - loss: 0.1912 - accuracy: 0.9268\n",
            "Epoch 19/20\n",
            "1875/1875 [==============================] - 4s 2ms/step - loss: 0.1825 - accuracy: 0.9327\n",
            "Epoch 20/20\n",
            "1875/1875 [==============================] - 4s 2ms/step - loss: 0.1774 - accuracy: 0.9341\n"
          ],
          "name": "stdout"
        },
        {
          "output_type": "execute_result",
          "data": {
            "text/plain": [
              "<tensorflow.python.keras.callbacks.History at 0x7f06eb4adfd0>"
            ]
          },
          "metadata": {
            "tags": []
          },
          "execution_count": 26
        }
      ]
    },
    {
      "cell_type": "code",
      "metadata": {
        "colab": {
          "base_uri": "https://localhost:8080/"
        },
        "id": "W9va6_CguuiB",
        "outputId": "288d1767-a2ed-4037-dbe1-ab5564fdd670"
      },
      "source": [
        "model.evaluate(x_test,y_test,verbose=2) #verbose = 0 will be silent , 1 will show animation and 2 will be just epoch 1/10"
      ],
      "execution_count": null,
      "outputs": [
        {
          "output_type": "stream",
          "text": [
            "313/313 - 0s - loss: 0.3485 - accuracy: 0.8906\n"
          ],
          "name": "stdout"
        },
        {
          "output_type": "execute_result",
          "data": {
            "text/plain": [
              "[0.3485162556171417, 0.8906000256538391]"
            ]
          },
          "metadata": {
            "tags": []
          },
          "execution_count": 27
        }
      ]
    },
    {
      "cell_type": "code",
      "metadata": {
        "colab": {
          "base_uri": "https://localhost:8080/"
        },
        "id": "V8FQDk7LvJ0P",
        "outputId": "508b996e-100f-45b9-f153-4e29cef44058"
      },
      "source": [
        "test_loss,test_accuracy = model.evaluate(x_test,y_test,verbose = 2)\r\n",
        "print('Test accuracy',test_accuracy)"
      ],
      "execution_count": null,
      "outputs": [
        {
          "output_type": "stream",
          "text": [
            "313/313 - 0s - loss: 0.3485 - accuracy: 0.8906\n",
            "Test accuracy 0.8906000256538391\n"
          ],
          "name": "stdout"
        }
      ]
    },
    {
      "cell_type": "code",
      "metadata": {
        "id": "6f9knFB0vai_"
      },
      "source": [
        "probability_model = tf.keras.Sequential(\r\n",
        "    [\r\n",
        "     model,\r\n",
        "     tf.keras.layers.Softmax() #adding activation function to output layer since we did not do that before\r\n",
        "    ]\r\n",
        ")"
      ],
      "execution_count": null,
      "outputs": []
    },
    {
      "cell_type": "code",
      "metadata": {
        "id": "S9FWkfj9vyHj"
      },
      "source": [
        "predictions = probability_model.predict(x_test)"
      ],
      "execution_count": null,
      "outputs": []
    },
    {
      "cell_type": "code",
      "metadata": {
        "colab": {
          "base_uri": "https://localhost:8080/"
        },
        "id": "ZfPQHMUTv_oC",
        "outputId": "61f08662-3fd4-43d5-bee3-85b480164554"
      },
      "source": [
        "predictions[:5]"
      ],
      "execution_count": null,
      "outputs": [
        {
          "output_type": "execute_result",
          "data": {
            "text/plain": [
              "array([[1.1040775e-09, 6.6452706e-09, 4.1023920e-11, 3.7256449e-14,\n",
              "        2.0266940e-08, 4.9015094e-04, 1.1650962e-08, 1.5025225e-03,\n",
              "        2.5995870e-09, 9.9800736e-01],\n",
              "       [2.9458944e-05, 2.9670950e-18, 9.9986959e-01, 5.9551040e-13,\n",
              "        4.0900632e-05, 3.3517931e-14, 6.0063241e-05, 3.2159032e-17,\n",
              "        2.1187519e-15, 5.1960606e-19],\n",
              "       [5.3256229e-18, 1.0000000e+00, 7.4883463e-22, 1.1562343e-15,\n",
              "        3.3468935e-19, 1.1858066e-27, 1.3207374e-16, 2.4295332e-38,\n",
              "        9.4742323e-18, 1.7645478e-37],\n",
              "       [4.3079462e-14, 1.0000000e+00, 1.9271233e-16, 1.1154713e-09,\n",
              "        1.3734459e-13, 1.4012431e-24, 1.0024126e-10, 1.8749942e-29,\n",
              "        1.3298520e-13, 2.4138327e-27],\n",
              "       [5.0109066e-02, 5.4183652e-10, 1.9872183e-04, 2.9044535e-05,\n",
              "        7.4667521e-05, 2.7519405e-09, 9.4958854e-01, 1.0398401e-08,\n",
              "        4.6676409e-08, 1.4173553e-10]], dtype=float32)"
            ]
          },
          "metadata": {
            "tags": []
          },
          "execution_count": 31
        }
      ]
    },
    {
      "cell_type": "code",
      "metadata": {
        "colab": {
          "base_uri": "https://localhost:8080/"
        },
        "id": "WaQVOMDxwCDz",
        "outputId": "06186e83-c877-446a-abc6-7f737814b85c"
      },
      "source": [
        "print('max',predictions[0].max())\r\n",
        "predictions[0]"
      ],
      "execution_count": null,
      "outputs": [
        {
          "output_type": "stream",
          "text": [
            "max 0.99800736\n"
          ],
          "name": "stdout"
        },
        {
          "output_type": "execute_result",
          "data": {
            "text/plain": [
              "array([1.1040775e-09, 6.6452706e-09, 4.1023920e-11, 3.7256449e-14,\n",
              "       2.0266940e-08, 4.9015094e-04, 1.1650962e-08, 1.5025225e-03,\n",
              "       2.5995870e-09, 9.9800736e-01], dtype=float32)"
            ]
          },
          "metadata": {
            "tags": []
          },
          "execution_count": 32
        }
      ]
    },
    {
      "cell_type": "code",
      "metadata": {
        "colab": {
          "base_uri": "https://localhost:8080/"
        },
        "id": "qXNpdBs4wO9t",
        "outputId": "7f1abe64-ce99-4247-cf81-4ab824211dc8"
      },
      "source": [
        "for i in range(len(class_names)):\r\n",
        "  print(i,\" \",class_names[i])"
      ],
      "execution_count": null,
      "outputs": [
        {
          "output_type": "stream",
          "text": [
            "0   T-shirt/top\n",
            "1   Trouser\n",
            "2   Pullover\n",
            "3   Dress\n",
            "4   Coat\n",
            "5   Sandal\n",
            "6   Shirt\n",
            "7   Sneaker\n",
            "8   Bag\n",
            "9   Ankle boot\n"
          ],
          "name": "stdout"
        }
      ]
    },
    {
      "cell_type": "code",
      "metadata": {
        "colab": {
          "base_uri": "https://localhost:8080/",
          "height": 279
        },
        "id": "xsaK4I9WwW2L",
        "outputId": "17a55086-d7b9-41c1-fa3c-84951ff360bf"
      },
      "source": [
        "plt.imshow(x_test[0],cmap=plt.cm.binary)\r\n",
        "plt.xlabel(class_names[y_test[0]]) \r\n",
        "plt.show()"
      ],
      "execution_count": null,
      "outputs": [
        {
          "output_type": "display_data",
          "data": {
            "image/png": "[encoded data removed]",
            "text/plain": [
              "<Figure size 432x288 with 1 Axes>"
            ]
          },
          "metadata": {
            "tags": [],
            "needs_background": "light"
          }
        }
      ]
    },
    {
      "cell_type": "code",
      "metadata": {
        "colab": {
          "base_uri": "https://localhost:8080/",
          "height": 265
        },
        "id": "-1J1vnRvw81B",
        "outputId": "2e71232e-cac0-485f-d553-686752f9dce7"
      },
      "source": [
        "plt.bar(list(range(10)),predictions[0])\r\n",
        "plt.xticks(range(10))\r\n",
        "plt.yticks([])\r\n",
        "plt.show()"
      ],
      "execution_count": null,
      "outputs": [
        {
          "output_type": "display_data",
          "data": {
            "image/png": "[encoded data removed]",
            "text/plain": [
              "<Figure size 432x288 with 1 Axes>"
            ]
          },
          "metadata": {
            "tags": [],
            "needs_background": "light"
          }
        }
      ]
    },
    {
      "cell_type": "code",
      "metadata": {
        "colab": {
          "base_uri": "https://localhost:8080/"
        },
        "id": "1yyTjqKixQuZ",
        "outputId": "001d91ca-b739-497a-b3ee-14175734ad3b"
      },
      "source": [
        "np.argmax(predictions[0])"
      ],
      "execution_count": null,
      "outputs": [
        {
          "output_type": "execute_result",
          "data": {
            "text/plain": [
              "9"
            ]
          },
          "metadata": {
            "tags": []
          },
          "execution_count": 36
        }
      ]
    },
    {
      "cell_type": "code",
      "metadata": {
        "colab": {
          "base_uri": "https://localhost:8080/",
          "height": 35
        },
        "id": "-4fghus4xXno",
        "outputId": "e93802d7-b445-469e-a84f-fe2edadef9cd"
      },
      "source": [
        "class_names[np.argmax(predictions[1])] "
      ],
      "execution_count": null,
      "outputs": [
        {
          "output_type": "execute_result",
          "data": {
            "application/vnd.google.colaboratory.intrinsic+json": {
              "type": "string"
            },
            "text/plain": [
              "'Pullover'"
            ]
          },
          "metadata": {
            "tags": []
          },
          "execution_count": 40
        }
      ]
    },
    {
      "cell_type": "code",
      "metadata": {
        "colab": {
          "base_uri": "https://localhost:8080/",
          "height": 282
        },
        "id": "MFfwyorCxcS6",
        "outputId": "1864f761-4307-481b-c457-c19c528676d9"
      },
      "source": [
        "plt.subplot(121)\r\n",
        "plt.imshow(x_test[0],cmap=plt.cm.binary)\r\n",
        "plt.xlabel(class_names[y_test[0]])\r\n",
        "\r\n",
        "plt.subplot(122)\r\n",
        "plt.bar(list(range(10)),predictions[0])\r\n",
        "\r\n",
        "plt.xticks(range(10))\r\n",
        "plt.yticks([])    "
      ],
      "execution_count": null,
      "outputs": [
        {
          "output_type": "execute_result",
          "data": {
            "text/plain": [
              "([], <a list of 0 Text major ticklabel objects>)"
            ]
          },
          "metadata": {
            "tags": []
          },
          "execution_count": 44
        },
        {
          "output_type": "display_data",
          "data": {
            "image/png": "[encoded data removed]",
            "text/plain": [
              "<Figure size 432x288 with 2 Axes>"
            ]
          },
          "metadata": {
            "tags": [],
            "needs_background": "light"
          }
        }
      ]
    },
    {
      "cell_type": "code",
      "metadata": {
        "id": "FP2Di8bSyC3o"
      },
      "source": [
        ""
      ],
      "execution_count": null,
      "outputs": []
    }
  ]
}